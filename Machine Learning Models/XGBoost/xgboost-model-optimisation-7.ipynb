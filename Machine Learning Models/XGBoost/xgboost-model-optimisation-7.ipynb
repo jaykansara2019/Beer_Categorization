{
 "cells": [
  {
   "cell_type": "code",
   "execution_count": 1,
   "id": "4dcfa6b2",
   "metadata": {
    "_cell_guid": "b1076dfc-b9ad-4769-8c92-a6c4dae69d19",
    "_uuid": "8f2839f25d086af736a60e9eeb907d3b93b6e0e5",
    "execution": {
     "iopub.execute_input": "2022-06-05T17:19:48.203273Z",
     "iopub.status.busy": "2022-06-05T17:19:48.202412Z",
     "iopub.status.idle": "2022-06-05T17:19:48.226560Z",
     "shell.execute_reply": "2022-06-05T17:19:48.225296Z"
    },
    "papermill": {
     "duration": 0.037835,
     "end_time": "2022-06-05T17:19:48.228818",
     "exception": false,
     "start_time": "2022-06-05T17:19:48.190983",
     "status": "completed"
    },
    "tags": []
   },
   "outputs": [
    {
     "name": "stdout",
     "output_type": "stream",
     "text": [
      "/kaggle/input/encoded-df3/encoded_df3.csv\n"
     ]
    }
   ],
   "source": [
    "# This Python 3 environment comes with many helpful analytics libraries installed\n",
    "# It is defined by the kaggle/python Docker image: https://github.com/kaggle/docker-python\n",
    "# For example, here's several helpful packages to load\n",
    "\n",
    "import numpy as np # linear algebra\n",
    "import pandas as pd # data processing, CSV file I/O (e.g. pd.read_csv)\n",
    "\n",
    "# Input data files are available in the read-only \"../input/\" directory\n",
    "# For example, running this (by clicking run or pressing Shift+Enter) will list all files under the input directory\n",
    "\n",
    "import os\n",
    "for dirname, _, filenames in os.walk('/kaggle/input'):\n",
    "    for filename in filenames:\n",
    "        print(os.path.join(dirname, filename))\n",
    "\n",
    "# You can write up to 20GB to the current directory (/kaggle/working/) that gets preserved as output when you create a version using \"Save & Run All\" \n",
    "# You can also write temporary files to /kaggle/temp/, but they won't be saved outside of the current session"
   ]
  },
  {
   "cell_type": "code",
   "execution_count": 2,
   "id": "1009632b",
   "metadata": {
    "execution": {
     "iopub.execute_input": "2022-06-05T17:19:48.243090Z",
     "iopub.status.busy": "2022-06-05T17:19:48.242439Z",
     "iopub.status.idle": "2022-06-05T17:19:49.308899Z",
     "shell.execute_reply": "2022-06-05T17:19:49.307977Z"
    },
    "papermill": {
     "duration": 1.076189,
     "end_time": "2022-06-05T17:19:49.311316",
     "exception": false,
     "start_time": "2022-06-05T17:19:48.235127",
     "status": "completed"
    },
    "tags": []
   },
   "outputs": [],
   "source": [
    "# Import dependencies \n",
    "import pandas as pd\n",
    "import os\n",
    "import matplotlib.pyplot as plt\n",
    "from sklearn.preprocessing import LabelEncoder\n",
    "le = LabelEncoder()\n",
    "\n",
    "plt.style.use('dark_background')"
   ]
  },
  {
   "cell_type": "code",
   "execution_count": 3,
   "id": "a09c7a48",
   "metadata": {
    "execution": {
     "iopub.execute_input": "2022-06-05T17:19:49.325226Z",
     "iopub.status.busy": "2022-06-05T17:19:49.324805Z",
     "iopub.status.idle": "2022-06-05T17:19:50.001536Z",
     "shell.execute_reply": "2022-06-05T17:19:50.000262Z"
    },
    "papermill": {
     "duration": 0.68634,
     "end_time": "2022-06-05T17:19:50.003797",
     "exception": false,
     "start_time": "2022-06-05T17:19:49.317457",
     "status": "completed"
    },
    "tags": []
   },
   "outputs": [
    {
     "data": {
      "text/html": [
       "<div>\n",
       "<style scoped>\n",
       "    .dataframe tbody tr th:only-of-type {\n",
       "        vertical-align: middle;\n",
       "    }\n",
       "\n",
       "    .dataframe tbody tr th {\n",
       "        vertical-align: top;\n",
       "    }\n",
       "\n",
       "    .dataframe thead th {\n",
       "        text-align: right;\n",
       "    }\n",
       "</style>\n",
       "<table border=\"1\" class=\"dataframe\">\n",
       "  <thead>\n",
       "    <tr style=\"text-align: right;\">\n",
       "      <th></th>\n",
       "      <th>state_beer</th>\n",
       "      <th>style</th>\n",
       "      <th>availability</th>\n",
       "      <th>abv</th>\n",
       "      <th>types</th>\n",
       "      <th>taste</th>\n",
       "    </tr>\n",
       "  </thead>\n",
       "  <tbody>\n",
       "    <tr>\n",
       "      <th>0</th>\n",
       "      <td>36</td>\n",
       "      <td>18</td>\n",
       "      <td>2</td>\n",
       "      <td>5.0</td>\n",
       "      <td>4</td>\n",
       "      <td>4.50</td>\n",
       "    </tr>\n",
       "    <tr>\n",
       "      <th>1</th>\n",
       "      <td>36</td>\n",
       "      <td>18</td>\n",
       "      <td>6</td>\n",
       "      <td>5.6</td>\n",
       "      <td>2</td>\n",
       "      <td>4.50</td>\n",
       "    </tr>\n",
       "    <tr>\n",
       "      <th>2</th>\n",
       "      <td>43</td>\n",
       "      <td>18</td>\n",
       "      <td>6</td>\n",
       "      <td>5.4</td>\n",
       "      <td>1</td>\n",
       "      <td>4.00</td>\n",
       "    </tr>\n",
       "    <tr>\n",
       "      <th>3</th>\n",
       "      <td>37</td>\n",
       "      <td>18</td>\n",
       "      <td>4</td>\n",
       "      <td>5.0</td>\n",
       "      <td>10</td>\n",
       "      <td>4.25</td>\n",
       "    </tr>\n",
       "    <tr>\n",
       "      <th>4</th>\n",
       "      <td>46</td>\n",
       "      <td>18</td>\n",
       "      <td>2</td>\n",
       "      <td>4.5</td>\n",
       "      <td>3</td>\n",
       "      <td>4.00</td>\n",
       "    </tr>\n",
       "    <tr>\n",
       "      <th>...</th>\n",
       "      <td>...</td>\n",
       "      <td>...</td>\n",
       "      <td>...</td>\n",
       "      <td>...</td>\n",
       "      <td>...</td>\n",
       "      <td>...</td>\n",
       "    </tr>\n",
       "    <tr>\n",
       "      <th>443995</th>\n",
       "      <td>4</td>\n",
       "      <td>36</td>\n",
       "      <td>6</td>\n",
       "      <td>5.8</td>\n",
       "      <td>3</td>\n",
       "      <td>4.50</td>\n",
       "    </tr>\n",
       "    <tr>\n",
       "      <th>443996</th>\n",
       "      <td>10</td>\n",
       "      <td>36</td>\n",
       "      <td>2</td>\n",
       "      <td>8.0</td>\n",
       "      <td>2</td>\n",
       "      <td>3.50</td>\n",
       "    </tr>\n",
       "    <tr>\n",
       "      <th>443997</th>\n",
       "      <td>4</td>\n",
       "      <td>36</td>\n",
       "      <td>2</td>\n",
       "      <td>11.0</td>\n",
       "      <td>10</td>\n",
       "      <td>5.00</td>\n",
       "    </tr>\n",
       "    <tr>\n",
       "      <th>443998</th>\n",
       "      <td>22</td>\n",
       "      <td>36</td>\n",
       "      <td>2</td>\n",
       "      <td>13.1</td>\n",
       "      <td>5</td>\n",
       "      <td>4.75</td>\n",
       "    </tr>\n",
       "    <tr>\n",
       "      <th>443999</th>\n",
       "      <td>15</td>\n",
       "      <td>36</td>\n",
       "      <td>6</td>\n",
       "      <td>10.0</td>\n",
       "      <td>1</td>\n",
       "      <td>4.50</td>\n",
       "    </tr>\n",
       "  </tbody>\n",
       "</table>\n",
       "<p>444000 rows × 6 columns</p>\n",
       "</div>"
      ],
      "text/plain": [
       "        state_beer  style  availability   abv  types  taste\n",
       "0               36     18             2   5.0      4   4.50\n",
       "1               36     18             6   5.6      2   4.50\n",
       "2               43     18             6   5.4      1   4.00\n",
       "3               37     18             4   5.0     10   4.25\n",
       "4               46     18             2   4.5      3   4.00\n",
       "...            ...    ...           ...   ...    ...    ...\n",
       "443995           4     36             6   5.8      3   4.50\n",
       "443996          10     36             2   8.0      2   3.50\n",
       "443997           4     36             2  11.0     10   5.00\n",
       "443998          22     36             2  13.1      5   4.75\n",
       "443999          15     36             6  10.0      1   4.50\n",
       "\n",
       "[444000 rows x 6 columns]"
      ]
     },
     "execution_count": 3,
     "metadata": {},
     "output_type": "execute_result"
    }
   ],
   "source": [
    "# Creating dataframe for beers and filtering for the US\n",
    "encoded_df3 = pd.read_csv(\"../input/encoded-df3/encoded_df3.csv\")\n",
    "encoded_df3 ['style'] = le.fit_transform(encoded_df3 ['style'])\n",
    "encoded_df3"
   ]
  },
  {
   "cell_type": "code",
   "execution_count": 4,
   "id": "23925c0b",
   "metadata": {
    "execution": {
     "iopub.execute_input": "2022-06-05T17:19:50.018219Z",
     "iopub.status.busy": "2022-06-05T17:19:50.017797Z",
     "iopub.status.idle": "2022-06-05T17:19:50.044088Z",
     "shell.execute_reply": "2022-06-05T17:19:50.043052Z"
    },
    "papermill": {
     "duration": 0.035763,
     "end_time": "2022-06-05T17:19:50.046180",
     "exception": false,
     "start_time": "2022-06-05T17:19:50.010417",
     "status": "completed"
    },
    "tags": []
   },
   "outputs": [
    {
     "data": {
      "text/html": [
       "<div>\n",
       "<style scoped>\n",
       "    .dataframe tbody tr th:only-of-type {\n",
       "        vertical-align: middle;\n",
       "    }\n",
       "\n",
       "    .dataframe tbody tr th {\n",
       "        vertical-align: top;\n",
       "    }\n",
       "\n",
       "    .dataframe thead th {\n",
       "        text-align: right;\n",
       "    }\n",
       "</style>\n",
       "<table border=\"1\" class=\"dataframe\">\n",
       "  <thead>\n",
       "    <tr style=\"text-align: right;\">\n",
       "      <th></th>\n",
       "      <th>style</th>\n",
       "    </tr>\n",
       "  </thead>\n",
       "  <tbody>\n",
       "    <tr>\n",
       "      <th>0</th>\n",
       "      <td>18</td>\n",
       "    </tr>\n",
       "    <tr>\n",
       "      <th>1</th>\n",
       "      <td>18</td>\n",
       "    </tr>\n",
       "    <tr>\n",
       "      <th>2</th>\n",
       "      <td>18</td>\n",
       "    </tr>\n",
       "    <tr>\n",
       "      <th>3</th>\n",
       "      <td>18</td>\n",
       "    </tr>\n",
       "    <tr>\n",
       "      <th>4</th>\n",
       "      <td>18</td>\n",
       "    </tr>\n",
       "    <tr>\n",
       "      <th>...</th>\n",
       "      <td>...</td>\n",
       "    </tr>\n",
       "    <tr>\n",
       "      <th>443995</th>\n",
       "      <td>36</td>\n",
       "    </tr>\n",
       "    <tr>\n",
       "      <th>443996</th>\n",
       "      <td>36</td>\n",
       "    </tr>\n",
       "    <tr>\n",
       "      <th>443997</th>\n",
       "      <td>36</td>\n",
       "    </tr>\n",
       "    <tr>\n",
       "      <th>443998</th>\n",
       "      <td>36</td>\n",
       "    </tr>\n",
       "    <tr>\n",
       "      <th>443999</th>\n",
       "      <td>36</td>\n",
       "    </tr>\n",
       "  </tbody>\n",
       "</table>\n",
       "<p>444000 rows × 1 columns</p>\n",
       "</div>"
      ],
      "text/plain": [
       "        style\n",
       "0          18\n",
       "1          18\n",
       "2          18\n",
       "3          18\n",
       "4          18\n",
       "...       ...\n",
       "443995     36\n",
       "443996     36\n",
       "443997     36\n",
       "443998     36\n",
       "443999     36\n",
       "\n",
       "[444000 rows x 1 columns]"
      ]
     },
     "execution_count": 4,
     "metadata": {},
     "output_type": "execute_result"
    }
   ],
   "source": [
    "#Create a seperate df for y\n",
    "style_df = encoded_df3.filter(['style'], axis=1)\n",
    "style_df"
   ]
  },
  {
   "cell_type": "code",
   "execution_count": 5,
   "id": "0deb23b2",
   "metadata": {
    "execution": {
     "iopub.execute_input": "2022-06-05T17:19:50.061579Z",
     "iopub.status.busy": "2022-06-05T17:19:50.061154Z",
     "iopub.status.idle": "2022-06-05T17:19:50.085816Z",
     "shell.execute_reply": "2022-06-05T17:19:50.084604Z"
    },
    "papermill": {
     "duration": 0.035078,
     "end_time": "2022-06-05T17:19:50.088278",
     "exception": false,
     "start_time": "2022-06-05T17:19:50.053200",
     "status": "completed"
    },
    "tags": []
   },
   "outputs": [
    {
     "data": {
      "text/html": [
       "<div>\n",
       "<style scoped>\n",
       "    .dataframe tbody tr th:only-of-type {\n",
       "        vertical-align: middle;\n",
       "    }\n",
       "\n",
       "    .dataframe tbody tr th {\n",
       "        vertical-align: top;\n",
       "    }\n",
       "\n",
       "    .dataframe thead th {\n",
       "        text-align: right;\n",
       "    }\n",
       "</style>\n",
       "<table border=\"1\" class=\"dataframe\">\n",
       "  <thead>\n",
       "    <tr style=\"text-align: right;\">\n",
       "      <th></th>\n",
       "      <th>state_beer</th>\n",
       "      <th>availability</th>\n",
       "      <th>abv</th>\n",
       "      <th>types</th>\n",
       "      <th>taste</th>\n",
       "    </tr>\n",
       "  </thead>\n",
       "  <tbody>\n",
       "    <tr>\n",
       "      <th>0</th>\n",
       "      <td>36</td>\n",
       "      <td>2</td>\n",
       "      <td>5.0</td>\n",
       "      <td>4</td>\n",
       "      <td>4.50</td>\n",
       "    </tr>\n",
       "    <tr>\n",
       "      <th>1</th>\n",
       "      <td>36</td>\n",
       "      <td>6</td>\n",
       "      <td>5.6</td>\n",
       "      <td>2</td>\n",
       "      <td>4.50</td>\n",
       "    </tr>\n",
       "    <tr>\n",
       "      <th>2</th>\n",
       "      <td>43</td>\n",
       "      <td>6</td>\n",
       "      <td>5.4</td>\n",
       "      <td>1</td>\n",
       "      <td>4.00</td>\n",
       "    </tr>\n",
       "    <tr>\n",
       "      <th>3</th>\n",
       "      <td>37</td>\n",
       "      <td>4</td>\n",
       "      <td>5.0</td>\n",
       "      <td>10</td>\n",
       "      <td>4.25</td>\n",
       "    </tr>\n",
       "    <tr>\n",
       "      <th>4</th>\n",
       "      <td>46</td>\n",
       "      <td>2</td>\n",
       "      <td>4.5</td>\n",
       "      <td>3</td>\n",
       "      <td>4.00</td>\n",
       "    </tr>\n",
       "    <tr>\n",
       "      <th>...</th>\n",
       "      <td>...</td>\n",
       "      <td>...</td>\n",
       "      <td>...</td>\n",
       "      <td>...</td>\n",
       "      <td>...</td>\n",
       "    </tr>\n",
       "    <tr>\n",
       "      <th>443995</th>\n",
       "      <td>4</td>\n",
       "      <td>6</td>\n",
       "      <td>5.8</td>\n",
       "      <td>3</td>\n",
       "      <td>4.50</td>\n",
       "    </tr>\n",
       "    <tr>\n",
       "      <th>443996</th>\n",
       "      <td>10</td>\n",
       "      <td>2</td>\n",
       "      <td>8.0</td>\n",
       "      <td>2</td>\n",
       "      <td>3.50</td>\n",
       "    </tr>\n",
       "    <tr>\n",
       "      <th>443997</th>\n",
       "      <td>4</td>\n",
       "      <td>2</td>\n",
       "      <td>11.0</td>\n",
       "      <td>10</td>\n",
       "      <td>5.00</td>\n",
       "    </tr>\n",
       "    <tr>\n",
       "      <th>443998</th>\n",
       "      <td>22</td>\n",
       "      <td>2</td>\n",
       "      <td>13.1</td>\n",
       "      <td>5</td>\n",
       "      <td>4.75</td>\n",
       "    </tr>\n",
       "    <tr>\n",
       "      <th>443999</th>\n",
       "      <td>15</td>\n",
       "      <td>6</td>\n",
       "      <td>10.0</td>\n",
       "      <td>1</td>\n",
       "      <td>4.50</td>\n",
       "    </tr>\n",
       "  </tbody>\n",
       "</table>\n",
       "<p>444000 rows × 5 columns</p>\n",
       "</div>"
      ],
      "text/plain": [
       "        state_beer  availability   abv  types  taste\n",
       "0               36             2   5.0      4   4.50\n",
       "1               36             6   5.6      2   4.50\n",
       "2               43             6   5.4      1   4.00\n",
       "3               37             4   5.0     10   4.25\n",
       "4               46             2   4.5      3   4.00\n",
       "...            ...           ...   ...    ...    ...\n",
       "443995           4             6   5.8      3   4.50\n",
       "443996          10             2   8.0      2   3.50\n",
       "443997           4             2  11.0     10   5.00\n",
       "443998          22             2  13.1      5   4.75\n",
       "443999          15             6  10.0      1   4.50\n",
       "\n",
       "[444000 rows x 5 columns]"
      ]
     },
     "execution_count": 5,
     "metadata": {},
     "output_type": "execute_result"
    }
   ],
   "source": [
    "#Drop y from the main df\n",
    "encoded_df3 = encoded_df3.drop(['style'], axis=1)\n",
    "encoded_df3"
   ]
  },
  {
   "cell_type": "code",
   "execution_count": 6,
   "id": "86a1a002",
   "metadata": {
    "execution": {
     "iopub.execute_input": "2022-06-05T17:19:50.104027Z",
     "iopub.status.busy": "2022-06-05T17:19:50.103563Z",
     "iopub.status.idle": "2022-06-05T17:19:50.110961Z",
     "shell.execute_reply": "2022-06-05T17:19:50.110243Z"
    },
    "papermill": {
     "duration": 0.017532,
     "end_time": "2022-06-05T17:19:50.113023",
     "exception": false,
     "start_time": "2022-06-05T17:19:50.095491",
     "status": "completed"
    },
    "tags": []
   },
   "outputs": [
    {
     "data": {
      "text/plain": [
       "state_beer        int64\n",
       "availability      int64\n",
       "abv             float64\n",
       "types             int64\n",
       "taste           float64\n",
       "dtype: object"
      ]
     },
     "execution_count": 6,
     "metadata": {},
     "output_type": "execute_result"
    }
   ],
   "source": [
    "#Check the data types for each culumn\n",
    "encoded_df3.dtypes"
   ]
  },
  {
   "cell_type": "code",
   "execution_count": 7,
   "id": "00d26fc0",
   "metadata": {
    "execution": {
     "iopub.execute_input": "2022-06-05T17:19:50.129209Z",
     "iopub.status.busy": "2022-06-05T17:19:50.128620Z",
     "iopub.status.idle": "2022-06-05T17:19:50.132537Z",
     "shell.execute_reply": "2022-06-05T17:19:50.131866Z"
    },
    "papermill": {
     "duration": 0.014303,
     "end_time": "2022-06-05T17:19:50.134565",
     "exception": false,
     "start_time": "2022-06-05T17:19:50.120262",
     "status": "completed"
    },
    "tags": []
   },
   "outputs": [],
   "source": [
    "#Scale the data\n",
    "from sklearn.preprocessing import StandardScaler\n",
    "data_scaler = StandardScaler()"
   ]
  },
  {
   "cell_type": "code",
   "execution_count": 8,
   "id": "ff06f054",
   "metadata": {
    "execution": {
     "iopub.execute_input": "2022-06-05T17:19:50.151052Z",
     "iopub.status.busy": "2022-06-05T17:19:50.150448Z",
     "iopub.status.idle": "2022-06-05T17:19:50.213297Z",
     "shell.execute_reply": "2022-06-05T17:19:50.212390Z"
    },
    "papermill": {
     "duration": 0.073392,
     "end_time": "2022-06-05T17:19:50.215440",
     "exception": false,
     "start_time": "2022-06-05T17:19:50.142048",
     "status": "completed"
    },
    "tags": []
   },
   "outputs": [
    {
     "data": {
      "text/plain": [
       "array([[ 0.88565368, -0.64351804, -0.80772653,  0.0723576 ,  1.08583817],\n",
       "       [ 0.88565368,  1.21588562, -0.56203395, -0.8323034 ,  1.08583817],\n",
       "       [ 1.36369417,  1.21588562, -0.64393148, -1.28463391,  0.27682337],\n",
       "       ...,\n",
       "       [-1.29967427, -0.64351804,  1.64919924,  2.78634061,  1.89485298],\n",
       "       [-0.0704273 , -0.64351804,  2.50912325,  0.5246881 ,  1.49034558],\n",
       "       [-0.54846779,  1.21588562,  1.23971161, -1.28463391,  1.08583817]])"
      ]
     },
     "execution_count": 8,
     "metadata": {},
     "output_type": "execute_result"
    }
   ],
   "source": [
    "scaled_df = data_scaler.fit_transform(encoded_df3)\n",
    "scaled_df"
   ]
  },
  {
   "cell_type": "code",
   "execution_count": 9,
   "id": "11b02d65",
   "metadata": {
    "execution": {
     "iopub.execute_input": "2022-06-05T17:19:50.231438Z",
     "iopub.status.busy": "2022-06-05T17:19:50.231065Z",
     "iopub.status.idle": "2022-06-05T17:19:50.241434Z",
     "shell.execute_reply": "2022-06-05T17:19:50.240595Z"
    },
    "papermill": {
     "duration": 0.020913,
     "end_time": "2022-06-05T17:19:50.243592",
     "exception": false,
     "start_time": "2022-06-05T17:19:50.222679",
     "status": "completed"
    },
    "tags": []
   },
   "outputs": [],
   "source": [
    "# Define features set\n",
    "X = scaled_df.copy()\n",
    "\n",
    "# Define target vector\n",
    "y = style_df.values"
   ]
  },
  {
   "cell_type": "code",
   "execution_count": 10,
   "id": "6390a9d8",
   "metadata": {
    "execution": {
     "iopub.execute_input": "2022-06-05T17:19:50.259622Z",
     "iopub.status.busy": "2022-06-05T17:19:50.259081Z",
     "iopub.status.idle": "2022-06-05T17:19:50.471042Z",
     "shell.execute_reply": "2022-06-05T17:19:50.469962Z"
    },
    "papermill": {
     "duration": 0.222804,
     "end_time": "2022-06-05T17:19:50.473675",
     "exception": false,
     "start_time": "2022-06-05T17:19:50.250871",
     "status": "completed"
    },
    "tags": []
   },
   "outputs": [],
   "source": [
    "from numpy import loadtxt\n",
    "from xgboost import XGBClassifier\n",
    "from sklearn.model_selection import train_test_split\n",
    "from sklearn.metrics import accuracy_score"
   ]
  },
  {
   "cell_type": "code",
   "execution_count": 11,
   "id": "47021e5d",
   "metadata": {
    "execution": {
     "iopub.execute_input": "2022-06-05T17:19:50.489970Z",
     "iopub.status.busy": "2022-06-05T17:19:50.489530Z",
     "iopub.status.idle": "2022-06-05T17:19:50.552069Z",
     "shell.execute_reply": "2022-06-05T17:19:50.550967Z"
    },
    "papermill": {
     "duration": 0.073497,
     "end_time": "2022-06-05T17:19:50.554550",
     "exception": false,
     "start_time": "2022-06-05T17:19:50.481053",
     "status": "completed"
    },
    "tags": []
   },
   "outputs": [],
   "source": [
    "from sklearn.model_selection import train_test_split\n",
    "from sklearn.preprocessing import StandardScaler\n",
    "# split data into train and test sets\n",
    "\n",
    "X_train, X_test, y_train, y_test = train_test_split(X, y, test_size=0.33, random_state=1)"
   ]
  },
  {
   "cell_type": "code",
   "execution_count": 12,
   "id": "04042735",
   "metadata": {
    "execution": {
     "iopub.execute_input": "2022-06-05T17:19:50.570506Z",
     "iopub.status.busy": "2022-06-05T17:19:50.570095Z",
     "iopub.status.idle": "2022-06-05T17:26:15.656046Z",
     "shell.execute_reply": "2022-06-05T17:26:15.655058Z"
    },
    "papermill": {
     "duration": 385.103571,
     "end_time": "2022-06-05T17:26:15.665385",
     "exception": false,
     "start_time": "2022-06-05T17:19:50.561814",
     "status": "completed"
    },
    "tags": []
   },
   "outputs": [
    {
     "data": {
      "text/plain": [
       "XGBClassifier(base_score=0.5, booster='gbtree', callbacks=None,\n",
       "              colsample_bylevel=1, colsample_bynode=1, colsample_bytree=1,\n",
       "              early_stopping_rounds=None, enable_categorical=False,\n",
       "              eval_metric=None, gamma=0, gpu_id=-1, grow_policy='depthwise',\n",
       "              importance_type=None, interaction_constraints='',\n",
       "              learning_rate=0.300000012, max_bin=256, max_cat_to_onehot=4,\n",
       "              max_delta_step=0, max_depth=6, max_leaves=0, min_child_weight=1,\n",
       "              missing=nan, monotone_constraints='()', n_estimators=100,\n",
       "              n_jobs=0, num_parallel_tree=1, objective='multi:softprob',\n",
       "              predictor='auto', random_state=0, reg_alpha=0, ...)"
      ]
     },
     "execution_count": 12,
     "metadata": {},
     "output_type": "execute_result"
    }
   ],
   "source": [
    "# fit model no training data\n",
    "model = XGBClassifier()\n",
    "model.fit(X_train, y_train)"
   ]
  },
  {
   "cell_type": "code",
   "execution_count": 13,
   "id": "a9d29942",
   "metadata": {
    "execution": {
     "iopub.execute_input": "2022-06-05T17:26:15.682181Z",
     "iopub.status.busy": "2022-06-05T17:26:15.681215Z",
     "iopub.status.idle": "2022-06-05T17:26:22.389788Z",
     "shell.execute_reply": "2022-06-05T17:26:22.388898Z"
    },
    "papermill": {
     "duration": 6.719625,
     "end_time": "2022-06-05T17:26:22.392292",
     "exception": false,
     "start_time": "2022-06-05T17:26:15.672667",
     "status": "completed"
    },
    "tags": []
   },
   "outputs": [],
   "source": [
    "# make predictions for test data\n",
    "y_pred = model.predict(X_test)\n",
    "predictions = [round(value) for value in y_pred]"
   ]
  },
  {
   "cell_type": "code",
   "execution_count": 14,
   "id": "33fdbbca",
   "metadata": {
    "execution": {
     "iopub.execute_input": "2022-06-05T17:26:22.408566Z",
     "iopub.status.busy": "2022-06-05T17:26:22.407765Z",
     "iopub.status.idle": "2022-06-05T17:26:22.554116Z",
     "shell.execute_reply": "2022-06-05T17:26:22.552975Z"
    },
    "papermill": {
     "duration": 0.15687,
     "end_time": "2022-06-05T17:26:22.556604",
     "exception": false,
     "start_time": "2022-06-05T17:26:22.399734",
     "status": "completed"
    },
    "tags": []
   },
   "outputs": [],
   "source": [
    "#calculate matrix and accuracy score\n",
    "from sklearn.metrics import confusion_matrix, accuracy_score, classification_report\n",
    "cm = confusion_matrix(y_test, predictions)\n",
    "cm_df = pd.DataFrame(cm)\n",
    "acc_score = accuracy_score(y_test, predictions)"
   ]
  },
  {
   "cell_type": "code",
   "execution_count": 15,
   "id": "15733707",
   "metadata": {
    "execution": {
     "iopub.execute_input": "2022-06-05T17:26:22.573238Z",
     "iopub.status.busy": "2022-06-05T17:26:22.572805Z",
     "iopub.status.idle": "2022-06-05T17:26:23.044718Z",
     "shell.execute_reply": "2022-06-05T17:26:23.043716Z"
    },
    "papermill": {
     "duration": 0.482869,
     "end_time": "2022-06-05T17:26:23.047373",
     "exception": false,
     "start_time": "2022-06-05T17:26:22.564504",
     "status": "completed"
    },
    "tags": []
   },
   "outputs": [
    {
     "name": "stdout",
     "output_type": "stream",
     "text": [
      "Accuracy: 71.02%\n",
      "Confusion Matrix\n",
      "Classification Report\n",
      "              precision    recall  f1-score   support\n",
      "\n",
      "           0       0.68      0.73      0.71      3651\n",
      "           1       0.76      0.79      0.77      3689\n",
      "           2       0.67      0.80      0.73      3668\n",
      "           3       0.81      0.87      0.84      3638\n",
      "           4       0.67      0.84      0.74      3584\n",
      "           5       0.70      0.63      0.66      3683\n",
      "           6       0.65      0.80      0.72      3681\n",
      "           7       0.60      0.58      0.59      3685\n",
      "           8       0.67      0.57      0.61      3671\n",
      "           9       0.67      0.53      0.59      3747\n",
      "          10       0.69      0.77      0.73      3637\n",
      "          11       0.82      0.87      0.84      3610\n",
      "          12       0.52      0.45      0.48      3701\n",
      "          13       0.77      0.84      0.80      3724\n",
      "          14       0.75      0.62      0.68      3687\n",
      "          15       0.79      0.80      0.79      3593\n",
      "          16       0.84      0.89      0.86      3641\n",
      "          17       0.73      0.84      0.79      3652\n",
      "          18       0.66      0.61      0.63      3619\n",
      "          19       0.62      0.80      0.70      3661\n",
      "          20       0.60      0.67      0.63      3632\n",
      "          21       0.81      0.89      0.85      3650\n",
      "          22       0.87      0.90      0.88      3728\n",
      "          23       0.76      0.79      0.77      3632\n",
      "          24       0.78      0.79      0.79      3717\n",
      "          25       0.75      0.62      0.67      3628\n",
      "          26       0.70      0.76      0.73      3707\n",
      "          27       0.71      0.46      0.56      3673\n",
      "          28       0.48      0.33      0.39      3692\n",
      "          29       0.60      0.58      0.59      3626\n",
      "          30       0.62      0.53      0.57      3657\n",
      "          31       0.85      0.89      0.87      3660\n",
      "          32       0.69      0.46      0.55      3675\n",
      "          33       0.71      0.73      0.72      3657\n",
      "          34       0.79      0.79      0.79      3640\n",
      "          35       0.79      0.82      0.81      3645\n",
      "          36       0.69      0.52      0.59      3695\n",
      "          37       0.78      0.77      0.78      3605\n",
      "          38       0.46      0.58      0.51      3669\n",
      "          39       0.83      0.93      0.88      3710\n",
      "\n",
      "    accuracy                           0.71    146520\n",
      "   macro avg       0.71      0.71      0.71    146520\n",
      "weighted avg       0.71      0.71      0.71    146520\n",
      "\n"
     ]
    }
   ],
   "source": [
    "# evaluate predictions\n",
    "accuracy = accuracy_score(y_test, predictions)\n",
    "print(\"Accuracy: %.2f%%\" % (accuracy * 100.0))\n",
    "print(\"Confusion Matrix\")\n",
    "print(\"Classification Report\")\n",
    "print(classification_report(y_test, predictions))"
   ]
  },
  {
   "cell_type": "code",
   "execution_count": 16,
   "id": "eb9f13f5",
   "metadata": {
    "execution": {
     "iopub.execute_input": "2022-06-05T17:26:23.063657Z",
     "iopub.status.busy": "2022-06-05T17:26:23.063292Z",
     "iopub.status.idle": "2022-06-05T17:26:37.400948Z",
     "shell.execute_reply": "2022-06-05T17:26:37.399829Z"
    },
    "papermill": {
     "duration": 14.348833,
     "end_time": "2022-06-05T17:26:37.403706",
     "exception": false,
     "start_time": "2022-06-05T17:26:23.054873",
     "status": "completed"
    },
    "tags": []
   },
   "outputs": [
    {
     "name": "stdout",
     "output_type": "stream",
     "text": [
      "              precision    recall  f1-score   support\n",
      "\n",
      "           0       0.70      0.75      0.72      7449\n",
      "           1       0.78      0.82      0.80      7411\n",
      "           2       0.68      0.82      0.74      7432\n",
      "           3       0.82      0.88      0.85      7462\n",
      "           4       0.69      0.85      0.76      7516\n",
      "           5       0.72      0.65      0.69      7417\n",
      "           6       0.67      0.82      0.74      7419\n",
      "           7       0.62      0.61      0.61      7415\n",
      "           8       0.69      0.58      0.63      7429\n",
      "           9       0.68      0.56      0.62      7353\n",
      "          10       0.70      0.78      0.74      7463\n",
      "          11       0.84      0.88      0.86      7490\n",
      "          12       0.56      0.47      0.51      7399\n",
      "          13       0.77      0.86      0.81      7376\n",
      "          14       0.77      0.66      0.71      7413\n",
      "          15       0.81      0.81      0.81      7507\n",
      "          16       0.86      0.90      0.88      7459\n",
      "          17       0.76      0.86      0.80      7448\n",
      "          18       0.68      0.64      0.66      7481\n",
      "          19       0.65      0.81      0.72      7439\n",
      "          20       0.62      0.70      0.66      7468\n",
      "          21       0.83      0.92      0.87      7450\n",
      "          22       0.88      0.91      0.90      7372\n",
      "          23       0.77      0.80      0.79      7468\n",
      "          24       0.80      0.80      0.80      7383\n",
      "          25       0.76      0.63      0.69      7472\n",
      "          26       0.72      0.78      0.75      7393\n",
      "          27       0.74      0.48      0.58      7427\n",
      "          28       0.55      0.37      0.44      7408\n",
      "          29       0.61      0.61      0.61      7474\n",
      "          30       0.66      0.57      0.61      7443\n",
      "          31       0.88      0.91      0.89      7440\n",
      "          32       0.70      0.47      0.56      7425\n",
      "          33       0.72      0.74      0.73      7443\n",
      "          34       0.80      0.80      0.80      7460\n",
      "          35       0.81      0.84      0.82      7455\n",
      "          36       0.74      0.54      0.63      7405\n",
      "          37       0.81      0.79      0.80      7495\n",
      "          38       0.48      0.62      0.54      7431\n",
      "          39       0.84      0.94      0.89      7390\n",
      "\n",
      "    accuracy                           0.73    297480\n",
      "   macro avg       0.73      0.73      0.73    297480\n",
      "weighted avg       0.73      0.73      0.73    297480\n",
      "\n"
     ]
    }
   ],
   "source": [
    "train_predictions = model.predict(X_train)\n",
    "print(classification_report(y_train, train_predictions))"
   ]
  },
  {
   "cell_type": "code",
   "execution_count": null,
   "id": "ed04e306",
   "metadata": {
    "papermill": {
     "duration": 0.007215,
     "end_time": "2022-06-05T17:26:37.418808",
     "exception": false,
     "start_time": "2022-06-05T17:26:37.411593",
     "status": "completed"
    },
    "tags": []
   },
   "outputs": [],
   "source": []
  },
  {
   "cell_type": "code",
   "execution_count": null,
   "id": "ceb80bff",
   "metadata": {
    "papermill": {
     "duration": 0.007122,
     "end_time": "2022-06-05T17:26:37.433562",
     "exception": false,
     "start_time": "2022-06-05T17:26:37.426440",
     "status": "completed"
    },
    "tags": []
   },
   "outputs": [],
   "source": []
  },
  {
   "cell_type": "code",
   "execution_count": null,
   "id": "d04a7571",
   "metadata": {
    "papermill": {
     "duration": 0.00723,
     "end_time": "2022-06-05T17:26:37.448045",
     "exception": false,
     "start_time": "2022-06-05T17:26:37.440815",
     "status": "completed"
    },
    "tags": []
   },
   "outputs": [],
   "source": []
  },
  {
   "cell_type": "code",
   "execution_count": null,
   "id": "07e6706a",
   "metadata": {
    "papermill": {
     "duration": 0.007103,
     "end_time": "2022-06-05T17:26:37.462645",
     "exception": false,
     "start_time": "2022-06-05T17:26:37.455542",
     "status": "completed"
    },
    "tags": []
   },
   "outputs": [],
   "source": []
  },
  {
   "cell_type": "code",
   "execution_count": null,
   "id": "0316bc68",
   "metadata": {
    "papermill": {
     "duration": 0.0071,
     "end_time": "2022-06-05T17:26:37.477197",
     "exception": false,
     "start_time": "2022-06-05T17:26:37.470097",
     "status": "completed"
    },
    "tags": []
   },
   "outputs": [],
   "source": []
  }
 ],
 "metadata": {
  "kernelspec": {
   "display_name": "Python 3",
   "language": "python",
   "name": "python3"
  },
  "language_info": {
   "codemirror_mode": {
    "name": "ipython",
    "version": 3
   },
   "file_extension": ".py",
   "mimetype": "text/x-python",
   "name": "python",
   "nbconvert_exporter": "python",
   "pygments_lexer": "ipython3",
   "version": "3.7.12"
  },
  "papermill": {
   "default_parameters": {},
   "duration": 419.934211,
   "end_time": "2022-06-05T17:26:38.206539",
   "environment_variables": {},
   "exception": null,
   "input_path": "__notebook__.ipynb",
   "output_path": "__notebook__.ipynb",
   "parameters": {},
   "start_time": "2022-06-05T17:19:38.272328",
   "version": "2.3.4"
  }
 },
 "nbformat": 4,
 "nbformat_minor": 5
}
