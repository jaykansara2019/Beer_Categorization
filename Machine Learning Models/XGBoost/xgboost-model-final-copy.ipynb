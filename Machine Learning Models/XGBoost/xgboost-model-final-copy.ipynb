{
 "cells": [
  {
   "cell_type": "markdown",
   "id": "22cbbd27",
   "metadata": {
    "papermill": {
     "duration": 0.00569,
     "end_time": "2022-06-05T21:07:44.731261",
     "exception": false,
     "start_time": "2022-06-05T21:07:44.725571",
     "status": "completed"
    },
    "tags": []
   },
   "source": [
    "The first 6 optimisation attempts were focused around feature selection based on the importance and correlation. \n",
    "\n",
    "The optimisation 7, we compared the training and testing accuracy and Optimisation 8 was performed to tune the number of trees (n_estimator). \n",
    "\n",
    "In Optimisation 9 and 10, we tried with the larger model to learn the best range of hyperparameters (e.g. alpha, lamba etc) and in the final attempt we are trying to use the shorter version of the model by trying to incorporate the hyperparameter outputs that we obtained from Optimisation 8 and 10."
   ]
  },
  {
   "cell_type": "code",
   "execution_count": 1,
   "id": "b024d12b",
   "metadata": {
    "_cell_guid": "b1076dfc-b9ad-4769-8c92-a6c4dae69d19",
    "_uuid": "8f2839f25d086af736a60e9eeb907d3b93b6e0e5",
    "execution": {
     "iopub.execute_input": "2022-06-05T21:07:44.742615Z",
     "iopub.status.busy": "2022-06-05T21:07:44.742145Z",
     "iopub.status.idle": "2022-06-05T21:07:44.761433Z",
     "shell.execute_reply": "2022-06-05T21:07:44.760559Z"
    },
    "papermill": {
     "duration": 0.027497,
     "end_time": "2022-06-05T21:07:44.763672",
     "exception": false,
     "start_time": "2022-06-05T21:07:44.736175",
     "status": "completed"
    },
    "tags": []
   },
   "outputs": [
    {
     "name": "stdout",
     "output_type": "stream",
     "text": [
      "/kaggle/input/encoded-df3/encoded_df3.csv\n"
     ]
    }
   ],
   "source": [
    "# This Python 3 environment comes with many helpful analytics libraries installed\n",
    "# It is defined by the kaggle/python Docker image: https://github.com/kaggle/docker-python\n",
    "# For example, here's several helpful packages to load\n",
    "\n",
    "import numpy as np # linear algebra\n",
    "import pandas as pd # data processing, CSV file I/O (e.g. pd.read_csv)\n",
    "\n",
    "# Input data files are available in the read-only \"../input/\" directory\n",
    "# For example, running this (by clicking run or pressing Shift+Enter) will list all files under the input directory\n",
    "\n",
    "import os\n",
    "for dirname, _, filenames in os.walk('/kaggle/input'):\n",
    "    for filename in filenames:\n",
    "        print(os.path.join(dirname, filename))\n",
    "\n",
    "# You can write up to 20GB to the current directory (/kaggle/working/) that gets preserved as output when you create a version using \"Save & Run All\" \n",
    "# You can also write temporary files to /kaggle/temp/, but they won't be saved outside of the current session"
   ]
  },
  {
   "cell_type": "code",
   "execution_count": 2,
   "id": "3c17bc11",
   "metadata": {
    "execution": {
     "iopub.execute_input": "2022-06-05T21:07:44.775421Z",
     "iopub.status.busy": "2022-06-05T21:07:44.774739Z",
     "iopub.status.idle": "2022-06-05T21:07:45.528753Z",
     "shell.execute_reply": "2022-06-05T21:07:45.527978Z"
    },
    "papermill": {
     "duration": 0.762306,
     "end_time": "2022-06-05T21:07:45.531207",
     "exception": false,
     "start_time": "2022-06-05T21:07:44.768901",
     "status": "completed"
    },
    "tags": []
   },
   "outputs": [],
   "source": [
    "# Import dependencies \n",
    "import pandas as pd\n",
    "import os\n",
    "import matplotlib.pyplot as plt\n",
    "from sklearn.preprocessing import LabelEncoder\n",
    "le = LabelEncoder()\n",
    "\n",
    "plt.style.use('dark_background')"
   ]
  },
  {
   "cell_type": "code",
   "execution_count": 3,
   "id": "212a0650",
   "metadata": {
    "execution": {
     "iopub.execute_input": "2022-06-05T21:07:45.545434Z",
     "iopub.status.busy": "2022-06-05T21:07:45.545127Z",
     "iopub.status.idle": "2022-06-05T21:07:45.891837Z",
     "shell.execute_reply": "2022-06-05T21:07:45.891035Z"
    },
    "papermill": {
     "duration": 0.355584,
     "end_time": "2022-06-05T21:07:45.893895",
     "exception": false,
     "start_time": "2022-06-05T21:07:45.538311",
     "status": "completed"
    },
    "tags": []
   },
   "outputs": [
    {
     "data": {
      "text/html": [
       "<div>\n",
       "<style scoped>\n",
       "    .dataframe tbody tr th:only-of-type {\n",
       "        vertical-align: middle;\n",
       "    }\n",
       "\n",
       "    .dataframe tbody tr th {\n",
       "        vertical-align: top;\n",
       "    }\n",
       "\n",
       "    .dataframe thead th {\n",
       "        text-align: right;\n",
       "    }\n",
       "</style>\n",
       "<table border=\"1\" class=\"dataframe\">\n",
       "  <thead>\n",
       "    <tr style=\"text-align: right;\">\n",
       "      <th></th>\n",
       "      <th>state_beer</th>\n",
       "      <th>style</th>\n",
       "      <th>availability</th>\n",
       "      <th>abv</th>\n",
       "      <th>types</th>\n",
       "      <th>taste</th>\n",
       "    </tr>\n",
       "  </thead>\n",
       "  <tbody>\n",
       "    <tr>\n",
       "      <th>0</th>\n",
       "      <td>36</td>\n",
       "      <td>German Hefeweizen</td>\n",
       "      <td>2</td>\n",
       "      <td>5.0</td>\n",
       "      <td>4</td>\n",
       "      <td>4.50</td>\n",
       "    </tr>\n",
       "    <tr>\n",
       "      <th>1</th>\n",
       "      <td>36</td>\n",
       "      <td>German Hefeweizen</td>\n",
       "      <td>6</td>\n",
       "      <td>5.6</td>\n",
       "      <td>2</td>\n",
       "      <td>4.50</td>\n",
       "    </tr>\n",
       "    <tr>\n",
       "      <th>2</th>\n",
       "      <td>43</td>\n",
       "      <td>German Hefeweizen</td>\n",
       "      <td>6</td>\n",
       "      <td>5.4</td>\n",
       "      <td>1</td>\n",
       "      <td>4.00</td>\n",
       "    </tr>\n",
       "    <tr>\n",
       "      <th>3</th>\n",
       "      <td>37</td>\n",
       "      <td>German Hefeweizen</td>\n",
       "      <td>4</td>\n",
       "      <td>5.0</td>\n",
       "      <td>10</td>\n",
       "      <td>4.25</td>\n",
       "    </tr>\n",
       "    <tr>\n",
       "      <th>4</th>\n",
       "      <td>46</td>\n",
       "      <td>German Hefeweizen</td>\n",
       "      <td>2</td>\n",
       "      <td>4.5</td>\n",
       "      <td>3</td>\n",
       "      <td>4.00</td>\n",
       "    </tr>\n",
       "    <tr>\n",
       "      <th>...</th>\n",
       "      <td>...</td>\n",
       "      <td>...</td>\n",
       "      <td>...</td>\n",
       "      <td>...</td>\n",
       "      <td>...</td>\n",
       "      <td>...</td>\n",
       "    </tr>\n",
       "    <tr>\n",
       "      <th>443995</th>\n",
       "      <td>4</td>\n",
       "      <td>Stout</td>\n",
       "      <td>6</td>\n",
       "      <td>5.8</td>\n",
       "      <td>3</td>\n",
       "      <td>4.50</td>\n",
       "    </tr>\n",
       "    <tr>\n",
       "      <th>443996</th>\n",
       "      <td>10</td>\n",
       "      <td>Stout</td>\n",
       "      <td>2</td>\n",
       "      <td>8.0</td>\n",
       "      <td>2</td>\n",
       "      <td>3.50</td>\n",
       "    </tr>\n",
       "    <tr>\n",
       "      <th>443997</th>\n",
       "      <td>4</td>\n",
       "      <td>Stout</td>\n",
       "      <td>2</td>\n",
       "      <td>11.0</td>\n",
       "      <td>10</td>\n",
       "      <td>5.00</td>\n",
       "    </tr>\n",
       "    <tr>\n",
       "      <th>443998</th>\n",
       "      <td>22</td>\n",
       "      <td>Stout</td>\n",
       "      <td>2</td>\n",
       "      <td>13.1</td>\n",
       "      <td>5</td>\n",
       "      <td>4.75</td>\n",
       "    </tr>\n",
       "    <tr>\n",
       "      <th>443999</th>\n",
       "      <td>15</td>\n",
       "      <td>Stout</td>\n",
       "      <td>6</td>\n",
       "      <td>10.0</td>\n",
       "      <td>1</td>\n",
       "      <td>4.50</td>\n",
       "    </tr>\n",
       "  </tbody>\n",
       "</table>\n",
       "<p>444000 rows × 6 columns</p>\n",
       "</div>"
      ],
      "text/plain": [
       "        state_beer              style  availability   abv  types  taste\n",
       "0               36  German Hefeweizen             2   5.0      4   4.50\n",
       "1               36  German Hefeweizen             6   5.6      2   4.50\n",
       "2               43  German Hefeweizen             6   5.4      1   4.00\n",
       "3               37  German Hefeweizen             4   5.0     10   4.25\n",
       "4               46  German Hefeweizen             2   4.5      3   4.00\n",
       "...            ...                ...           ...   ...    ...    ...\n",
       "443995           4              Stout             6   5.8      3   4.50\n",
       "443996          10              Stout             2   8.0      2   3.50\n",
       "443997           4              Stout             2  11.0     10   5.00\n",
       "443998          22              Stout             2  13.1      5   4.75\n",
       "443999          15              Stout             6  10.0      1   4.50\n",
       "\n",
       "[444000 rows x 6 columns]"
      ]
     },
     "execution_count": 3,
     "metadata": {},
     "output_type": "execute_result"
    }
   ],
   "source": [
    "# Import encoded datafram\n",
    "encoded_df3 = pd.read_csv(\"../input/encoded-df3/encoded_df3.csv\")\n",
    "encoded_df3"
   ]
  },
  {
   "cell_type": "code",
   "execution_count": 4,
   "id": "fd882dd2",
   "metadata": {
    "execution": {
     "iopub.execute_input": "2022-06-05T21:07:45.906076Z",
     "iopub.status.busy": "2022-06-05T21:07:45.905412Z",
     "iopub.status.idle": "2022-06-05T21:07:46.025658Z",
     "shell.execute_reply": "2022-06-05T21:07:46.024959Z"
    },
    "papermill": {
     "duration": 0.128541,
     "end_time": "2022-06-05T21:07:46.027766",
     "exception": false,
     "start_time": "2022-06-05T21:07:45.899225",
     "status": "completed"
    },
    "tags": []
   },
   "outputs": [],
   "source": [
    "# import dependencies\n",
    "from xgboost import XGBClassifier\n",
    "import matplotlib.pyplot as plt\n",
    "from sklearn.preprocessing import StandardScaler\n",
    "from sklearn.model_selection import train_test_split\n",
    "from sklearn.metrics import confusion_matrix, accuracy_score, classification_report"
   ]
  },
  {
   "cell_type": "code",
   "execution_count": 5,
   "id": "462235b0",
   "metadata": {
    "execution": {
     "iopub.execute_input": "2022-06-05T21:07:46.039326Z",
     "iopub.status.busy": "2022-06-05T21:07:46.039029Z",
     "iopub.status.idle": "2022-06-05T21:07:46.170489Z",
     "shell.execute_reply": "2022-06-05T21:07:46.169784Z"
    },
    "papermill": {
     "duration": 0.138847,
     "end_time": "2022-06-05T21:07:46.172064",
     "exception": false,
     "start_time": "2022-06-05T21:07:46.033217",
     "status": "completed"
    },
    "tags": []
   },
   "outputs": [
    {
     "data": {
      "text/html": [
       "<div>\n",
       "<style scoped>\n",
       "    .dataframe tbody tr th:only-of-type {\n",
       "        vertical-align: middle;\n",
       "    }\n",
       "\n",
       "    .dataframe tbody tr th {\n",
       "        vertical-align: top;\n",
       "    }\n",
       "\n",
       "    .dataframe thead th {\n",
       "        text-align: right;\n",
       "    }\n",
       "</style>\n",
       "<table border=\"1\" class=\"dataframe\">\n",
       "  <thead>\n",
       "    <tr style=\"text-align: right;\">\n",
       "      <th></th>\n",
       "      <th>state_beer</th>\n",
       "      <th>style</th>\n",
       "      <th>availability</th>\n",
       "      <th>abv</th>\n",
       "      <th>types</th>\n",
       "      <th>taste</th>\n",
       "    </tr>\n",
       "  </thead>\n",
       "  <tbody>\n",
       "    <tr>\n",
       "      <th>0</th>\n",
       "      <td>36</td>\n",
       "      <td>18</td>\n",
       "      <td>2</td>\n",
       "      <td>5.0</td>\n",
       "      <td>4</td>\n",
       "      <td>4.50</td>\n",
       "    </tr>\n",
       "    <tr>\n",
       "      <th>1</th>\n",
       "      <td>36</td>\n",
       "      <td>18</td>\n",
       "      <td>6</td>\n",
       "      <td>5.6</td>\n",
       "      <td>2</td>\n",
       "      <td>4.50</td>\n",
       "    </tr>\n",
       "    <tr>\n",
       "      <th>2</th>\n",
       "      <td>43</td>\n",
       "      <td>18</td>\n",
       "      <td>6</td>\n",
       "      <td>5.4</td>\n",
       "      <td>1</td>\n",
       "      <td>4.00</td>\n",
       "    </tr>\n",
       "    <tr>\n",
       "      <th>3</th>\n",
       "      <td>37</td>\n",
       "      <td>18</td>\n",
       "      <td>4</td>\n",
       "      <td>5.0</td>\n",
       "      <td>10</td>\n",
       "      <td>4.25</td>\n",
       "    </tr>\n",
       "    <tr>\n",
       "      <th>4</th>\n",
       "      <td>46</td>\n",
       "      <td>18</td>\n",
       "      <td>2</td>\n",
       "      <td>4.5</td>\n",
       "      <td>3</td>\n",
       "      <td>4.00</td>\n",
       "    </tr>\n",
       "    <tr>\n",
       "      <th>...</th>\n",
       "      <td>...</td>\n",
       "      <td>...</td>\n",
       "      <td>...</td>\n",
       "      <td>...</td>\n",
       "      <td>...</td>\n",
       "      <td>...</td>\n",
       "    </tr>\n",
       "    <tr>\n",
       "      <th>443995</th>\n",
       "      <td>4</td>\n",
       "      <td>36</td>\n",
       "      <td>6</td>\n",
       "      <td>5.8</td>\n",
       "      <td>3</td>\n",
       "      <td>4.50</td>\n",
       "    </tr>\n",
       "    <tr>\n",
       "      <th>443996</th>\n",
       "      <td>10</td>\n",
       "      <td>36</td>\n",
       "      <td>2</td>\n",
       "      <td>8.0</td>\n",
       "      <td>2</td>\n",
       "      <td>3.50</td>\n",
       "    </tr>\n",
       "    <tr>\n",
       "      <th>443997</th>\n",
       "      <td>4</td>\n",
       "      <td>36</td>\n",
       "      <td>2</td>\n",
       "      <td>11.0</td>\n",
       "      <td>10</td>\n",
       "      <td>5.00</td>\n",
       "    </tr>\n",
       "    <tr>\n",
       "      <th>443998</th>\n",
       "      <td>22</td>\n",
       "      <td>36</td>\n",
       "      <td>2</td>\n",
       "      <td>13.1</td>\n",
       "      <td>5</td>\n",
       "      <td>4.75</td>\n",
       "    </tr>\n",
       "    <tr>\n",
       "      <th>443999</th>\n",
       "      <td>15</td>\n",
       "      <td>36</td>\n",
       "      <td>6</td>\n",
       "      <td>10.0</td>\n",
       "      <td>1</td>\n",
       "      <td>4.50</td>\n",
       "    </tr>\n",
       "  </tbody>\n",
       "</table>\n",
       "<p>444000 rows × 6 columns</p>\n",
       "</div>"
      ],
      "text/plain": [
       "        state_beer  style  availability   abv  types  taste\n",
       "0               36     18             2   5.0      4   4.50\n",
       "1               36     18             6   5.6      2   4.50\n",
       "2               43     18             6   5.4      1   4.00\n",
       "3               37     18             4   5.0     10   4.25\n",
       "4               46     18             2   4.5      3   4.00\n",
       "...            ...    ...           ...   ...    ...    ...\n",
       "443995           4     36             6   5.8      3   4.50\n",
       "443996          10     36             2   8.0      2   3.50\n",
       "443997           4     36             2  11.0     10   5.00\n",
       "443998          22     36             2  13.1      5   4.75\n",
       "443999          15     36             6  10.0      1   4.50\n",
       "\n",
       "[444000 rows x 6 columns]"
      ]
     },
     "execution_count": 5,
     "metadata": {},
     "output_type": "execute_result"
    }
   ],
   "source": [
    "#encode string values\n",
    "from sklearn.preprocessing import LabelEncoder\n",
    "le = LabelEncoder()\n",
    "encoded_df4 = encoded_df3.copy()\n",
    "encoded_df4['style'] = le.fit_transform(encoded_df4['style'])\n",
    "encoded_df4"
   ]
  },
  {
   "cell_type": "code",
   "execution_count": 6,
   "id": "613e6e5d",
   "metadata": {
    "execution": {
     "iopub.execute_input": "2022-06-05T21:07:46.184321Z",
     "iopub.status.busy": "2022-06-05T21:07:46.183620Z",
     "iopub.status.idle": "2022-06-05T21:07:46.189243Z",
     "shell.execute_reply": "2022-06-05T21:07:46.188410Z"
    },
    "papermill": {
     "duration": 0.013628,
     "end_time": "2022-06-05T21:07:46.191112",
     "exception": false,
     "start_time": "2022-06-05T21:07:46.177484",
     "status": "completed"
    },
    "tags": []
   },
   "outputs": [
    {
     "data": {
      "text/plain": [
       "array([18, 18, 18, ..., 36, 36, 36])"
      ]
     },
     "execution_count": 6,
     "metadata": {},
     "output_type": "execute_result"
    }
   ],
   "source": [
    "# Define the target set\n",
    "y = encoded_df4[\"style\"].values\n",
    "y"
   ]
  },
  {
   "cell_type": "code",
   "execution_count": 7,
   "id": "8c0150a2",
   "metadata": {
    "execution": {
     "iopub.execute_input": "2022-06-05T21:07:46.203096Z",
     "iopub.status.busy": "2022-06-05T21:07:46.202817Z",
     "iopub.status.idle": "2022-06-05T21:07:46.232657Z",
     "shell.execute_reply": "2022-06-05T21:07:46.231779Z"
    },
    "papermill": {
     "duration": 0.03818,
     "end_time": "2022-06-05T21:07:46.234653",
     "exception": false,
     "start_time": "2022-06-05T21:07:46.196473",
     "status": "completed"
    },
    "tags": []
   },
   "outputs": [
    {
     "data": {
      "text/html": [
       "<div>\n",
       "<style scoped>\n",
       "    .dataframe tbody tr th:only-of-type {\n",
       "        vertical-align: middle;\n",
       "    }\n",
       "\n",
       "    .dataframe tbody tr th {\n",
       "        vertical-align: top;\n",
       "    }\n",
       "\n",
       "    .dataframe thead th {\n",
       "        text-align: right;\n",
       "    }\n",
       "</style>\n",
       "<table border=\"1\" class=\"dataframe\">\n",
       "  <thead>\n",
       "    <tr style=\"text-align: right;\">\n",
       "      <th></th>\n",
       "      <th>state_beer</th>\n",
       "      <th>availability</th>\n",
       "      <th>abv</th>\n",
       "      <th>types</th>\n",
       "      <th>taste</th>\n",
       "    </tr>\n",
       "  </thead>\n",
       "  <tbody>\n",
       "    <tr>\n",
       "      <th>0</th>\n",
       "      <td>36</td>\n",
       "      <td>2</td>\n",
       "      <td>5.0</td>\n",
       "      <td>4</td>\n",
       "      <td>4.50</td>\n",
       "    </tr>\n",
       "    <tr>\n",
       "      <th>1</th>\n",
       "      <td>36</td>\n",
       "      <td>6</td>\n",
       "      <td>5.6</td>\n",
       "      <td>2</td>\n",
       "      <td>4.50</td>\n",
       "    </tr>\n",
       "    <tr>\n",
       "      <th>2</th>\n",
       "      <td>43</td>\n",
       "      <td>6</td>\n",
       "      <td>5.4</td>\n",
       "      <td>1</td>\n",
       "      <td>4.00</td>\n",
       "    </tr>\n",
       "    <tr>\n",
       "      <th>3</th>\n",
       "      <td>37</td>\n",
       "      <td>4</td>\n",
       "      <td>5.0</td>\n",
       "      <td>10</td>\n",
       "      <td>4.25</td>\n",
       "    </tr>\n",
       "    <tr>\n",
       "      <th>4</th>\n",
       "      <td>46</td>\n",
       "      <td>2</td>\n",
       "      <td>4.5</td>\n",
       "      <td>3</td>\n",
       "      <td>4.00</td>\n",
       "    </tr>\n",
       "    <tr>\n",
       "      <th>...</th>\n",
       "      <td>...</td>\n",
       "      <td>...</td>\n",
       "      <td>...</td>\n",
       "      <td>...</td>\n",
       "      <td>...</td>\n",
       "    </tr>\n",
       "    <tr>\n",
       "      <th>443995</th>\n",
       "      <td>4</td>\n",
       "      <td>6</td>\n",
       "      <td>5.8</td>\n",
       "      <td>3</td>\n",
       "      <td>4.50</td>\n",
       "    </tr>\n",
       "    <tr>\n",
       "      <th>443996</th>\n",
       "      <td>10</td>\n",
       "      <td>2</td>\n",
       "      <td>8.0</td>\n",
       "      <td>2</td>\n",
       "      <td>3.50</td>\n",
       "    </tr>\n",
       "    <tr>\n",
       "      <th>443997</th>\n",
       "      <td>4</td>\n",
       "      <td>2</td>\n",
       "      <td>11.0</td>\n",
       "      <td>10</td>\n",
       "      <td>5.00</td>\n",
       "    </tr>\n",
       "    <tr>\n",
       "      <th>443998</th>\n",
       "      <td>22</td>\n",
       "      <td>2</td>\n",
       "      <td>13.1</td>\n",
       "      <td>5</td>\n",
       "      <td>4.75</td>\n",
       "    </tr>\n",
       "    <tr>\n",
       "      <th>443999</th>\n",
       "      <td>15</td>\n",
       "      <td>6</td>\n",
       "      <td>10.0</td>\n",
       "      <td>1</td>\n",
       "      <td>4.50</td>\n",
       "    </tr>\n",
       "  </tbody>\n",
       "</table>\n",
       "<p>444000 rows × 5 columns</p>\n",
       "</div>"
      ],
      "text/plain": [
       "        state_beer  availability   abv  types  taste\n",
       "0               36             2   5.0      4   4.50\n",
       "1               36             6   5.6      2   4.50\n",
       "2               43             6   5.4      1   4.00\n",
       "3               37             4   5.0     10   4.25\n",
       "4               46             2   4.5      3   4.00\n",
       "...            ...           ...   ...    ...    ...\n",
       "443995           4             6   5.8      3   4.50\n",
       "443996          10             2   8.0      2   3.50\n",
       "443997           4             2  11.0     10   5.00\n",
       "443998          22             2  13.1      5   4.75\n",
       "443999          15             6  10.0      1   4.50\n",
       "\n",
       "[444000 rows x 5 columns]"
      ]
     },
     "execution_count": 7,
     "metadata": {},
     "output_type": "execute_result"
    }
   ],
   "source": [
    "#Drop y from the main df\n",
    "encoded_df4 = encoded_df4.drop(['style'], axis=1)\n",
    "encoded_df4"
   ]
  },
  {
   "cell_type": "code",
   "execution_count": 8,
   "id": "7f64ada2",
   "metadata": {
    "execution": {
     "iopub.execute_input": "2022-06-05T21:07:46.247609Z",
     "iopub.status.busy": "2022-06-05T21:07:46.247320Z",
     "iopub.status.idle": "2022-06-05T21:07:46.266344Z",
     "shell.execute_reply": "2022-06-05T21:07:46.265241Z"
    },
    "papermill": {
     "duration": 0.027609,
     "end_time": "2022-06-05T21:07:46.268057",
     "exception": false,
     "start_time": "2022-06-05T21:07:46.240448",
     "status": "completed"
    },
    "tags": []
   },
   "outputs": [
    {
     "data": {
      "text/html": [
       "<div>\n",
       "<style scoped>\n",
       "    .dataframe tbody tr th:only-of-type {\n",
       "        vertical-align: middle;\n",
       "    }\n",
       "\n",
       "    .dataframe tbody tr th {\n",
       "        vertical-align: top;\n",
       "    }\n",
       "\n",
       "    .dataframe thead th {\n",
       "        text-align: right;\n",
       "    }\n",
       "</style>\n",
       "<table border=\"1\" class=\"dataframe\">\n",
       "  <thead>\n",
       "    <tr style=\"text-align: right;\">\n",
       "      <th></th>\n",
       "      <th>state_beer</th>\n",
       "      <th>availability</th>\n",
       "      <th>abv</th>\n",
       "      <th>types</th>\n",
       "      <th>taste</th>\n",
       "    </tr>\n",
       "  </thead>\n",
       "  <tbody>\n",
       "    <tr>\n",
       "      <th>0</th>\n",
       "      <td>36</td>\n",
       "      <td>2</td>\n",
       "      <td>5.0</td>\n",
       "      <td>4</td>\n",
       "      <td>4.50</td>\n",
       "    </tr>\n",
       "    <tr>\n",
       "      <th>1</th>\n",
       "      <td>36</td>\n",
       "      <td>6</td>\n",
       "      <td>5.6</td>\n",
       "      <td>2</td>\n",
       "      <td>4.50</td>\n",
       "    </tr>\n",
       "    <tr>\n",
       "      <th>2</th>\n",
       "      <td>43</td>\n",
       "      <td>6</td>\n",
       "      <td>5.4</td>\n",
       "      <td>1</td>\n",
       "      <td>4.00</td>\n",
       "    </tr>\n",
       "    <tr>\n",
       "      <th>3</th>\n",
       "      <td>37</td>\n",
       "      <td>4</td>\n",
       "      <td>5.0</td>\n",
       "      <td>10</td>\n",
       "      <td>4.25</td>\n",
       "    </tr>\n",
       "    <tr>\n",
       "      <th>4</th>\n",
       "      <td>46</td>\n",
       "      <td>2</td>\n",
       "      <td>4.5</td>\n",
       "      <td>3</td>\n",
       "      <td>4.00</td>\n",
       "    </tr>\n",
       "    <tr>\n",
       "      <th>...</th>\n",
       "      <td>...</td>\n",
       "      <td>...</td>\n",
       "      <td>...</td>\n",
       "      <td>...</td>\n",
       "      <td>...</td>\n",
       "    </tr>\n",
       "    <tr>\n",
       "      <th>443995</th>\n",
       "      <td>4</td>\n",
       "      <td>6</td>\n",
       "      <td>5.8</td>\n",
       "      <td>3</td>\n",
       "      <td>4.50</td>\n",
       "    </tr>\n",
       "    <tr>\n",
       "      <th>443996</th>\n",
       "      <td>10</td>\n",
       "      <td>2</td>\n",
       "      <td>8.0</td>\n",
       "      <td>2</td>\n",
       "      <td>3.50</td>\n",
       "    </tr>\n",
       "    <tr>\n",
       "      <th>443997</th>\n",
       "      <td>4</td>\n",
       "      <td>2</td>\n",
       "      <td>11.0</td>\n",
       "      <td>10</td>\n",
       "      <td>5.00</td>\n",
       "    </tr>\n",
       "    <tr>\n",
       "      <th>443998</th>\n",
       "      <td>22</td>\n",
       "      <td>2</td>\n",
       "      <td>13.1</td>\n",
       "      <td>5</td>\n",
       "      <td>4.75</td>\n",
       "    </tr>\n",
       "    <tr>\n",
       "      <th>443999</th>\n",
       "      <td>15</td>\n",
       "      <td>6</td>\n",
       "      <td>10.0</td>\n",
       "      <td>1</td>\n",
       "      <td>4.50</td>\n",
       "    </tr>\n",
       "  </tbody>\n",
       "</table>\n",
       "<p>444000 rows × 5 columns</p>\n",
       "</div>"
      ],
      "text/plain": [
       "        state_beer  availability   abv  types  taste\n",
       "0               36             2   5.0      4   4.50\n",
       "1               36             6   5.6      2   4.50\n",
       "2               43             6   5.4      1   4.00\n",
       "3               37             4   5.0     10   4.25\n",
       "4               46             2   4.5      3   4.00\n",
       "...            ...           ...   ...    ...    ...\n",
       "443995           4             6   5.8      3   4.50\n",
       "443996          10             2   8.0      2   3.50\n",
       "443997           4             2  11.0     10   5.00\n",
       "443998          22             2  13.1      5   4.75\n",
       "443999          15             6  10.0      1   4.50\n",
       "\n",
       "[444000 rows x 5 columns]"
      ]
     },
     "execution_count": 8,
     "metadata": {},
     "output_type": "execute_result"
    }
   ],
   "source": [
    "#define the features set\n",
    "X = encoded_df4.copy()\n",
    "X"
   ]
  },
  {
   "cell_type": "code",
   "execution_count": 9,
   "id": "f7026f7c",
   "metadata": {
    "execution": {
     "iopub.execute_input": "2022-06-05T21:07:46.280701Z",
     "iopub.status.busy": "2022-06-05T21:07:46.280435Z",
     "iopub.status.idle": "2022-06-05T21:07:46.332499Z",
     "shell.execute_reply": "2022-06-05T21:07:46.331701Z"
    },
    "papermill": {
     "duration": 0.060499,
     "end_time": "2022-06-05T21:07:46.334465",
     "exception": false,
     "start_time": "2022-06-05T21:07:46.273966",
     "status": "completed"
    },
    "tags": []
   },
   "outputs": [],
   "source": [
    "# Splitting into Train and Test sets\n",
    "X_train, X_test, y_train, y_test = train_test_split(X, y, test_size=0.33, random_state=1)"
   ]
  },
  {
   "cell_type": "code",
   "execution_count": 10,
   "id": "5c37ce7b",
   "metadata": {
    "execution": {
     "iopub.execute_input": "2022-06-05T21:07:46.347976Z",
     "iopub.status.busy": "2022-06-05T21:07:46.347438Z",
     "iopub.status.idle": "2022-06-05T21:07:46.379826Z",
     "shell.execute_reply": "2022-06-05T21:07:46.379074Z"
    },
    "papermill": {
     "duration": 0.041277,
     "end_time": "2022-06-05T21:07:46.381789",
     "exception": false,
     "start_time": "2022-06-05T21:07:46.340512",
     "status": "completed"
    },
    "tags": []
   },
   "outputs": [],
   "source": [
    "# Create a StandardScaler instance\n",
    "scaler = StandardScaler()\n",
    "# Fitting the Standard Scaler with the training data.\n",
    "X_scaler = scaler.fit(X_train)\n",
    "\n",
    "# Scaling the data.\n",
    "X_train_scaled = X_scaler.transform(X_train)\n",
    "X_test_scaled = X_scaler.transform(X_test)"
   ]
  },
  {
   "cell_type": "code",
   "execution_count": 11,
   "id": "1ea2d22b",
   "metadata": {
    "execution": {
     "iopub.execute_input": "2022-06-05T21:07:46.394692Z",
     "iopub.status.busy": "2022-06-05T21:07:46.394407Z",
     "iopub.status.idle": "2022-06-05T21:07:46.401577Z",
     "shell.execute_reply": "2022-06-05T21:07:46.400797Z"
    },
    "papermill": {
     "duration": 0.015432,
     "end_time": "2022-06-05T21:07:46.403213",
     "exception": false,
     "start_time": "2022-06-05T21:07:46.387781",
     "status": "completed"
    },
    "tags": []
   },
   "outputs": [
    {
     "data": {
      "text/plain": [
       "{'lambda': 0.6961487559906326,\n",
       " 'alpha': 0.010396164166391456,\n",
       " 'colsample_bytree': 0.9,\n",
       " 'subsample': 0.7,\n",
       " 'learning_rate': 0.008,\n",
       " 'max_depth': 17,\n",
       " 'random_state': 2020,\n",
       " 'min_child_weight': 1,\n",
       " 'tree_method': 'gpu_hist',\n",
       " 'n_estimators': 200}"
      ]
     },
     "execution_count": 11,
     "metadata": {},
     "output_type": "execute_result"
    }
   ],
   "source": [
    "best_trial1 = {'lambda': 0.6961487559906326, 'alpha': 0.010396164166391456, 'colsample_bytree': 0.9, 'subsample': 0.7, 'learning_rate': 0.008, 'max_depth': 17, 'random_state': 2020, 'min_child_weight': 1, 'tree_method': 'gpu_hist','n_estimators': 200 }\n",
    "best_trial1"
   ]
  },
  {
   "cell_type": "code",
   "execution_count": 12,
   "id": "d595626d",
   "metadata": {
    "execution": {
     "iopub.execute_input": "2022-06-05T21:07:46.416174Z",
     "iopub.status.busy": "2022-06-05T21:07:46.415574Z",
     "iopub.status.idle": "2022-06-05T21:16:43.162847Z",
     "shell.execute_reply": "2022-06-05T21:16:43.161927Z"
    },
    "papermill": {
     "duration": 536.756161,
     "end_time": "2022-06-05T21:16:43.165200",
     "exception": false,
     "start_time": "2022-06-05T21:07:46.409039",
     "status": "completed"
    },
    "tags": []
   },
   "outputs": [],
   "source": [
    "# create an optimized xgb classifier\n",
    "xgb_model1 = XGBClassifier(**best_trial1)\n",
    "# fit the model\n",
    "xgb_model1 = xgb_model1.fit(X_train_scaled, y_train)"
   ]
  },
  {
   "cell_type": "code",
   "execution_count": 13,
   "id": "cc016599",
   "metadata": {
    "execution": {
     "iopub.execute_input": "2022-06-05T21:16:43.179655Z",
     "iopub.status.busy": "2022-06-05T21:16:43.179329Z",
     "iopub.status.idle": "2022-06-05T21:18:38.279078Z",
     "shell.execute_reply": "2022-06-05T21:18:38.278264Z"
    },
    "papermill": {
     "duration": 115.109406,
     "end_time": "2022-06-05T21:18:38.281221",
     "exception": false,
     "start_time": "2022-06-05T21:16:43.171815",
     "status": "completed"
    },
    "tags": []
   },
   "outputs": [],
   "source": [
    "# make predictions for test data\n",
    "predictions1 = xgb_model1.predict(X_test_scaled)"
   ]
  },
  {
   "cell_type": "code",
   "execution_count": 14,
   "id": "6422307c",
   "metadata": {
    "execution": {
     "iopub.execute_input": "2022-06-05T21:18:38.294859Z",
     "iopub.status.busy": "2022-06-05T21:18:38.294576Z",
     "iopub.status.idle": "2022-06-05T21:18:38.346760Z",
     "shell.execute_reply": "2022-06-05T21:18:38.346049Z"
    },
    "papermill": {
     "duration": 0.060847,
     "end_time": "2022-06-05T21:18:38.348615",
     "exception": false,
     "start_time": "2022-06-05T21:18:38.287768",
     "status": "completed"
    },
    "tags": []
   },
   "outputs": [],
   "source": [
    "#calculate matrix and accuracy score\n",
    "cm1 = confusion_matrix(y_test, predictions1)\n",
    "cm_df1 = pd.DataFrame(cm1)\n",
    "accuracy = accuracy_score(y_test, predictions1)"
   ]
  },
  {
   "cell_type": "code",
   "execution_count": 15,
   "id": "ae08222f",
   "metadata": {
    "execution": {
     "iopub.execute_input": "2022-06-05T21:18:38.362464Z",
     "iopub.status.busy": "2022-06-05T21:18:38.362195Z",
     "iopub.status.idle": "2022-06-05T21:18:38.759485Z",
     "shell.execute_reply": "2022-06-05T21:18:38.757676Z"
    },
    "papermill": {
     "duration": 0.411262,
     "end_time": "2022-06-05T21:18:38.766483",
     "exception": false,
     "start_time": "2022-06-05T21:18:38.355221",
     "status": "completed"
    },
    "tags": []
   },
   "outputs": [
    {
     "name": "stdout",
     "output_type": "stream",
     "text": [
      "Confusion Matrix\n",
      "Accuracy: 76.30%\n",
      "Classification Report\n",
      "              precision    recall  f1-score   support\n",
      "\n",
      "           0       0.74      0.77      0.75      3651\n",
      "           1       0.77      0.82      0.80      3689\n",
      "           2       0.80      0.84      0.82      3668\n",
      "           3       0.84      0.89      0.86      3638\n",
      "           4       0.75      0.86      0.80      3584\n",
      "           5       0.76      0.69      0.72      3683\n",
      "           6       0.71      0.83      0.76      3681\n",
      "           7       0.69      0.67      0.68      3685\n",
      "           8       0.72      0.65      0.68      3671\n",
      "           9       0.71      0.62      0.66      3747\n",
      "          10       0.77      0.81      0.79      3637\n",
      "          11       0.85      0.90      0.87      3610\n",
      "          12       0.59      0.55      0.57      3701\n",
      "          13       0.83      0.88      0.86      3724\n",
      "          14       0.77      0.66      0.71      3687\n",
      "          15       0.82      0.85      0.83      3593\n",
      "          16       0.87      0.91      0.89      3641\n",
      "          17       0.80      0.89      0.84      3652\n",
      "          18       0.71      0.72      0.71      3619\n",
      "          19       0.72      0.85      0.78      3661\n",
      "          20       0.69      0.78      0.73      3632\n",
      "          21       0.86      0.91      0.88      3650\n",
      "          22       0.87      0.91      0.89      3728\n",
      "          23       0.79      0.84      0.82      3632\n",
      "          24       0.81      0.84      0.83      3717\n",
      "          25       0.77      0.68      0.72      3628\n",
      "          26       0.76      0.80      0.78      3707\n",
      "          27       0.74      0.56      0.64      3673\n",
      "          28       0.56      0.39      0.46      3692\n",
      "          29       0.67      0.65      0.66      3626\n",
      "          30       0.70      0.61      0.65      3657\n",
      "          31       0.86      0.90      0.88      3660\n",
      "          32       0.72      0.57      0.64      3675\n",
      "          33       0.79      0.80      0.80      3657\n",
      "          34       0.82      0.82      0.82      3640\n",
      "          35       0.85      0.87      0.86      3645\n",
      "          36       0.70      0.58      0.64      3695\n",
      "          37       0.82      0.80      0.81      3605\n",
      "          38       0.54      0.63      0.58      3669\n",
      "          39       0.87      0.93      0.90      3710\n",
      "\n",
      "    accuracy                           0.76    146520\n",
      "   macro avg       0.76      0.76      0.76    146520\n",
      "weighted avg       0.76      0.76      0.76    146520\n",
      "\n"
     ]
    }
   ],
   "source": [
    "# Display results\n",
    "\n",
    "print(\"Confusion Matrix\")\n",
    "print(\"Accuracy: %.2f%%\" % (accuracy * 100.0))\n",
    "print(\"Classification Report\")\n",
    "print(classification_report(y_test, predictions1))"
   ]
  },
  {
   "cell_type": "code",
   "execution_count": 16,
   "id": "b40d7f04",
   "metadata": {
    "execution": {
     "iopub.execute_input": "2022-06-05T21:18:38.788873Z",
     "iopub.status.busy": "2022-06-05T21:18:38.788492Z",
     "iopub.status.idle": "2022-06-05T21:22:31.850786Z",
     "shell.execute_reply": "2022-06-05T21:22:31.849994Z"
    },
    "papermill": {
     "duration": 233.081523,
     "end_time": "2022-06-05T21:22:31.859736",
     "exception": false,
     "start_time": "2022-06-05T21:18:38.778213",
     "status": "completed"
    },
    "tags": []
   },
   "outputs": [
    {
     "name": "stdout",
     "output_type": "stream",
     "text": [
      "              precision    recall  f1-score   support\n",
      "\n",
      "           0       0.78      0.79      0.79      7449\n",
      "           1       0.81      0.86      0.83      7411\n",
      "           2       0.81      0.87      0.83      7432\n",
      "           3       0.86      0.90      0.88      7462\n",
      "           4       0.79      0.88      0.84      7516\n",
      "           5       0.80      0.72      0.76      7417\n",
      "           6       0.74      0.87      0.80      7419\n",
      "           7       0.74      0.73      0.73      7415\n",
      "           8       0.76      0.69      0.72      7429\n",
      "           9       0.75      0.70      0.72      7353\n",
      "          10       0.79      0.83      0.81      7463\n",
      "          11       0.87      0.91      0.89      7490\n",
      "          12       0.67      0.62      0.65      7399\n",
      "          13       0.85      0.90      0.87      7376\n",
      "          14       0.82      0.71      0.76      7413\n",
      "          15       0.84      0.87      0.85      7507\n",
      "          16       0.88      0.92      0.90      7459\n",
      "          17       0.83      0.91      0.87      7448\n",
      "          18       0.77      0.75      0.76      7481\n",
      "          19       0.75      0.88      0.81      7439\n",
      "          20       0.73      0.81      0.77      7468\n",
      "          21       0.87      0.93      0.90      7450\n",
      "          22       0.89      0.93      0.91      7372\n",
      "          23       0.82      0.86      0.84      7468\n",
      "          24       0.83      0.85      0.84      7383\n",
      "          25       0.80      0.72      0.76      7472\n",
      "          26       0.81      0.84      0.82      7393\n",
      "          27       0.79      0.60      0.68      7427\n",
      "          28       0.69      0.49      0.58      7408\n",
      "          29       0.70      0.70      0.70      7474\n",
      "          30       0.76      0.68      0.72      7443\n",
      "          31       0.89      0.91      0.90      7440\n",
      "          32       0.76      0.60      0.67      7425\n",
      "          33       0.82      0.82      0.82      7443\n",
      "          34       0.85      0.85      0.85      7460\n",
      "          35       0.87      0.89      0.88      7455\n",
      "          36       0.77      0.65      0.71      7405\n",
      "          37       0.85      0.83      0.84      7495\n",
      "          38       0.61      0.71      0.66      7431\n",
      "          39       0.89      0.95      0.92      7390\n",
      "\n",
      "    accuracy                           0.80    297480\n",
      "   macro avg       0.80      0.80      0.80    297480\n",
      "weighted avg       0.80      0.80      0.80    297480\n",
      "\n"
     ]
    }
   ],
   "source": [
    "train_predictions = xgb_model1.predict(X_train_scaled)\n",
    "print(classification_report(y_train, train_predictions))"
   ]
  },
  {
   "cell_type": "code",
   "execution_count": 17,
   "id": "4bb3877c",
   "metadata": {
    "execution": {
     "iopub.execute_input": "2022-06-05T21:22:31.873657Z",
     "iopub.status.busy": "2022-06-05T21:22:31.873335Z",
     "iopub.status.idle": "2022-06-05T21:22:32.271621Z",
     "shell.execute_reply": "2022-06-05T21:22:32.270807Z"
    },
    "papermill": {
     "duration": 0.407768,
     "end_time": "2022-06-05T21:22:32.274004",
     "exception": false,
     "start_time": "2022-06-05T21:22:31.866236",
     "status": "completed"
    },
    "tags": []
   },
   "outputs": [],
   "source": [
    "#Export testing classification report\n",
    "df1 = pd.DataFrame(classification_report(y_test, predictions1, output_dict=True))\n",
    "df1.to_csv('test_classification_report_xgboost.csv',index=False)\n"
   ]
  },
  {
   "cell_type": "code",
   "execution_count": 18,
   "id": "4d8b41e9",
   "metadata": {
    "execution": {
     "iopub.execute_input": "2022-06-05T21:22:32.288102Z",
     "iopub.status.busy": "2022-06-05T21:22:32.287793Z",
     "iopub.status.idle": "2022-06-05T21:22:33.092499Z",
     "shell.execute_reply": "2022-06-05T21:22:33.091708Z"
    },
    "papermill": {
     "duration": 0.813844,
     "end_time": "2022-06-05T21:22:33.094538",
     "exception": false,
     "start_time": "2022-06-05T21:22:32.280694",
     "status": "completed"
    },
    "tags": []
   },
   "outputs": [],
   "source": [
    "#Export training classification report\n",
    "df2 = pd.DataFrame(classification_report(y_train, train_predictions, output_dict=True))\n",
    "df2.to_csv('train_classification_report_xgboost.csv',index=False)"
   ]
  },
  {
   "cell_type": "code",
   "execution_count": null,
   "id": "e2252796",
   "metadata": {
    "papermill": {
     "duration": 0.00607,
     "end_time": "2022-06-05T21:22:33.107268",
     "exception": false,
     "start_time": "2022-06-05T21:22:33.101198",
     "status": "completed"
    },
    "tags": []
   },
   "outputs": [],
   "source": []
  }
 ],
 "metadata": {
  "kernelspec": {
   "display_name": "Python 3",
   "language": "python",
   "name": "python3"
  },
  "language_info": {
   "codemirror_mode": {
    "name": "ipython",
    "version": 3
   },
   "file_extension": ".py",
   "mimetype": "text/x-python",
   "name": "python",
   "nbconvert_exporter": "python",
   "pygments_lexer": "ipython3",
   "version": "3.7.12"
  },
  "papermill": {
   "default_parameters": {},
   "duration": 897.52736,
   "end_time": "2022-06-05T21:22:34.537262",
   "environment_variables": {},
   "exception": null,
   "input_path": "__notebook__.ipynb",
   "output_path": "__notebook__.ipynb",
   "parameters": {},
   "start_time": "2022-06-05T21:07:37.009902",
   "version": "2.3.4"
  }
 },
 "nbformat": 4,
 "nbformat_minor": 5
}
