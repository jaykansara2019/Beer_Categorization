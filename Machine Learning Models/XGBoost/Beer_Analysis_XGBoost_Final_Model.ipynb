{
 "cells": [
  {
   "cell_type": "markdown",
   "id": "150d9fa9",
   "metadata": {
    "papermill": {
     "duration": 0.006972,
     "end_time": "2022-06-05T23:26:57.473274",
     "exception": false,
     "start_time": "2022-06-05T23:26:57.466302",
     "status": "completed"
    },
    "tags": []
   },
   "source": [
    "The first 6 optimisation attempts were focused around feature selection based on the importance and correlation. \n",
    "\n",
    "The optimisation 7, we compared the training and testing accuracy and Optimisation 8 was performed to tune the number of trees (n_estimator). \n",
    "\n",
    "In Optimisation 9 and 10, we tried with the larger model to learn the best range of hyperparameters (e.g. alpha, lamba etc) and in the final attempt we are trying to use the shorter version of the model by trying to incorporate the hyperparameter outputs that we obtained from Optimisation 8 and 10."
   ]
  },
  {
   "cell_type": "code",
   "execution_count": 1,
   "id": "8840bd2b",
   "metadata": {
    "_cell_guid": "b1076dfc-b9ad-4769-8c92-a6c4dae69d19",
    "_uuid": "8f2839f25d086af736a60e9eeb907d3b93b6e0e5",
    "execution": {
     "iopub.execute_input": "2022-06-05T23:26:57.486145Z",
     "iopub.status.busy": "2022-06-05T23:26:57.485661Z",
     "iopub.status.idle": "2022-06-05T23:26:57.502477Z",
     "shell.execute_reply": "2022-06-05T23:26:57.501760Z"
    },
    "papermill": {
     "duration": 0.026084,
     "end_time": "2022-06-05T23:26:57.505058",
     "exception": false,
     "start_time": "2022-06-05T23:26:57.478974",
     "status": "completed"
    },
    "tags": []
   },
   "outputs": [
    {
     "name": "stdout",
     "output_type": "stream",
     "text": [
      "/kaggle/input/d/datasets/jaykansara2019/df-stratified/df_stratified.csv\n"
     ]
    }
   ],
   "source": [
    "# This Python 3 environment comes with many helpful analytics libraries installed\n",
    "# It is defined by the kaggle/python Docker image: https://github.com/kaggle/docker-python\n",
    "# For example, here's several helpful packages to load\n",
    "\n",
    "import numpy as np # linear algebra\n",
    "import pandas as pd # data processing, CSV file I/O (e.g. pd.read_csv)\n",
    "\n",
    "# Input data files are available in the read-only \"../input/\" directory\n",
    "# For example, running this (by clicking run or pressing Shift+Enter) will list all files under the input directory\n",
    "\n",
    "import os\n",
    "for dirname, _, filenames in os.walk('/kaggle/input'):\n",
    "    for filename in filenames:\n",
    "        print(os.path.join(dirname, filename))\n",
    "\n",
    "# You can write up to 20GB to the current directory (/kaggle/working/) that gets preserved as output when you create a version using \"Save & Run All\" \n",
    "# You can also write temporary files to /kaggle/temp/, but they won't be saved outside of the current session"
   ]
  },
  {
   "cell_type": "code",
   "execution_count": 2,
   "id": "246c6672",
   "metadata": {
    "execution": {
     "iopub.execute_input": "2022-06-05T23:26:57.517112Z",
     "iopub.status.busy": "2022-06-05T23:26:57.516836Z",
     "iopub.status.idle": "2022-06-05T23:26:58.335882Z",
     "shell.execute_reply": "2022-06-05T23:26:58.335052Z"
    },
    "papermill": {
     "duration": 0.827647,
     "end_time": "2022-06-05T23:26:58.338302",
     "exception": false,
     "start_time": "2022-06-05T23:26:57.510655",
     "status": "completed"
    },
    "tags": []
   },
   "outputs": [],
   "source": [
    "# Import dependencies \n",
    "import pandas as pd\n",
    "import os\n",
    "import matplotlib.pyplot as plt\n",
    "from sklearn.preprocessing import LabelEncoder\n",
    "le = LabelEncoder()\n",
    "\n",
    "plt.style.use('dark_background')"
   ]
  },
  {
   "cell_type": "code",
   "execution_count": 3,
   "id": "62700e93",
   "metadata": {
    "execution": {
     "iopub.execute_input": "2022-06-05T23:26:58.351303Z",
     "iopub.status.busy": "2022-06-05T23:26:58.350988Z",
     "iopub.status.idle": "2022-06-05T23:27:00.126634Z",
     "shell.execute_reply": "2022-06-05T23:27:00.125883Z"
    },
    "papermill": {
     "duration": 1.784185,
     "end_time": "2022-06-05T23:27:00.128495",
     "exception": false,
     "start_time": "2022-06-05T23:26:58.344310",
     "status": "completed"
    },
    "tags": []
   },
   "outputs": [
    {
     "data": {
      "text/html": [
       "<div>\n",
       "<style scoped>\n",
       "    .dataframe tbody tr th:only-of-type {\n",
       "        vertical-align: middle;\n",
       "    }\n",
       "\n",
       "    .dataframe tbody tr th {\n",
       "        vertical-align: top;\n",
       "    }\n",
       "\n",
       "    .dataframe thead th {\n",
       "        text-align: right;\n",
       "    }\n",
       "</style>\n",
       "<table border=\"1\" class=\"dataframe\">\n",
       "  <thead>\n",
       "    <tr style=\"text-align: right;\">\n",
       "      <th></th>\n",
       "      <th>state_beer</th>\n",
       "      <th>style</th>\n",
       "      <th>availability</th>\n",
       "      <th>abv</th>\n",
       "      <th>distribution</th>\n",
       "      <th>taste</th>\n",
       "    </tr>\n",
       "  </thead>\n",
       "  <tbody>\n",
       "    <tr>\n",
       "      <th>0</th>\n",
       "      <td>PA</td>\n",
       "      <td>German Hefeweizen</td>\n",
       "      <td>Year round</td>\n",
       "      <td>5.4</td>\n",
       "      <td>Brewery, Bar, Eatery</td>\n",
       "      <td>3.75</td>\n",
       "    </tr>\n",
       "    <tr>\n",
       "      <th>1</th>\n",
       "      <td>OR</td>\n",
       "      <td>German Hefeweizen</td>\n",
       "      <td>Year round</td>\n",
       "      <td>4.9</td>\n",
       "      <td>Brewery</td>\n",
       "      <td>3.50</td>\n",
       "    </tr>\n",
       "    <tr>\n",
       "      <th>2</th>\n",
       "      <td>CA</td>\n",
       "      <td>German Hefeweizen</td>\n",
       "      <td>Year round</td>\n",
       "      <td>4.8</td>\n",
       "      <td>Brewery, Bar, Eatery</td>\n",
       "      <td>4.50</td>\n",
       "    </tr>\n",
       "    <tr>\n",
       "      <th>3</th>\n",
       "      <td>PA</td>\n",
       "      <td>German Hefeweizen</td>\n",
       "      <td>Year round</td>\n",
       "      <td>4.8</td>\n",
       "      <td>Brewery, Bar, Eatery, Beer-to-go</td>\n",
       "      <td>3.00</td>\n",
       "    </tr>\n",
       "    <tr>\n",
       "      <th>4</th>\n",
       "      <td>MO</td>\n",
       "      <td>German Hefeweizen</td>\n",
       "      <td>Year round</td>\n",
       "      <td>4.1</td>\n",
       "      <td>Brewery, Bar, Eatery, Beer-to-go</td>\n",
       "      <td>3.50</td>\n",
       "    </tr>\n",
       "    <tr>\n",
       "      <th>...</th>\n",
       "      <td>...</td>\n",
       "      <td>...</td>\n",
       "      <td>...</td>\n",
       "      <td>...</td>\n",
       "      <td>...</td>\n",
       "      <td>...</td>\n",
       "    </tr>\n",
       "    <tr>\n",
       "      <th>443995</th>\n",
       "      <td>IL</td>\n",
       "      <td>Stout</td>\n",
       "      <td>Rotating</td>\n",
       "      <td>10.5</td>\n",
       "      <td>Brewery, Beer-to-go</td>\n",
       "      <td>4.50</td>\n",
       "    </tr>\n",
       "    <tr>\n",
       "      <th>443996</th>\n",
       "      <td>MI</td>\n",
       "      <td>Stout</td>\n",
       "      <td>Year round</td>\n",
       "      <td>11.0</td>\n",
       "      <td>Brewery, Bar, Eatery, Beer-to-go</td>\n",
       "      <td>4.25</td>\n",
       "    </tr>\n",
       "    <tr>\n",
       "      <th>443997</th>\n",
       "      <td>WA</td>\n",
       "      <td>Stout</td>\n",
       "      <td>Fall</td>\n",
       "      <td>13.1</td>\n",
       "      <td>Brewery, Bar, Eatery, Beer-to-go</td>\n",
       "      <td>4.75</td>\n",
       "    </tr>\n",
       "    <tr>\n",
       "      <th>443998</th>\n",
       "      <td>CA</td>\n",
       "      <td>Stout</td>\n",
       "      <td>Rotating</td>\n",
       "      <td>10.2</td>\n",
       "      <td>Brewery, Bar, Beer-to-go</td>\n",
       "      <td>4.50</td>\n",
       "    </tr>\n",
       "    <tr>\n",
       "      <th>443999</th>\n",
       "      <td>FL</td>\n",
       "      <td>Stout</td>\n",
       "      <td>Limited (Brewed once)</td>\n",
       "      <td>11.2</td>\n",
       "      <td>Brewery, Bar, Beer-to-go</td>\n",
       "      <td>4.75</td>\n",
       "    </tr>\n",
       "  </tbody>\n",
       "</table>\n",
       "<p>444000 rows × 6 columns</p>\n",
       "</div>"
      ],
      "text/plain": [
       "       state_beer              style           availability   abv  \\\n",
       "0              PA  German Hefeweizen             Year round   5.4   \n",
       "1              OR  German Hefeweizen             Year round   4.9   \n",
       "2              CA  German Hefeweizen             Year round   4.8   \n",
       "3              PA  German Hefeweizen             Year round   4.8   \n",
       "4              MO  German Hefeweizen             Year round   4.1   \n",
       "...           ...                ...                    ...   ...   \n",
       "443995         IL              Stout               Rotating  10.5   \n",
       "443996         MI              Stout             Year round  11.0   \n",
       "443997         WA              Stout                   Fall  13.1   \n",
       "443998         CA              Stout               Rotating  10.2   \n",
       "443999         FL              Stout  Limited (Brewed once)  11.2   \n",
       "\n",
       "                            distribution  taste  \n",
       "0                   Brewery, Bar, Eatery   3.75  \n",
       "1                                Brewery   3.50  \n",
       "2                   Brewery, Bar, Eatery   4.50  \n",
       "3       Brewery, Bar, Eatery, Beer-to-go   3.00  \n",
       "4       Brewery, Bar, Eatery, Beer-to-go   3.50  \n",
       "...                                  ...    ...  \n",
       "443995               Brewery, Beer-to-go   4.50  \n",
       "443996  Brewery, Bar, Eatery, Beer-to-go   4.25  \n",
       "443997  Brewery, Bar, Eatery, Beer-to-go   4.75  \n",
       "443998          Brewery, Bar, Beer-to-go   4.50  \n",
       "443999          Brewery, Bar, Beer-to-go   4.75  \n",
       "\n",
       "[444000 rows x 6 columns]"
      ]
     },
     "execution_count": 3,
     "metadata": {},
     "output_type": "execute_result"
    }
   ],
   "source": [
    "# Import encoded datafram\n",
    "encoded_df3 = pd.read_csv(\"../input/d/datasets/jaykansara2019/df-stratified/df_stratified.csv\")\n",
    "encoded_df3 = encoded_df3.drop(['beer_name','beer_id','brewery_id','country_beer','brewery_name','city','look','smell','feel','overall','score'], axis=1)\n",
    "encoded_df3"
   ]
  },
  {
   "cell_type": "code",
   "execution_count": 4,
   "id": "22ed30ef",
   "metadata": {
    "execution": {
     "iopub.execute_input": "2022-06-05T23:27:00.141836Z",
     "iopub.status.busy": "2022-06-05T23:27:00.141045Z",
     "iopub.status.idle": "2022-06-05T23:27:00.287832Z",
     "shell.execute_reply": "2022-06-05T23:27:00.287089Z"
    },
    "papermill": {
     "duration": 0.155565,
     "end_time": "2022-06-05T23:27:00.289755",
     "exception": false,
     "start_time": "2022-06-05T23:27:00.134190",
     "status": "completed"
    },
    "tags": []
   },
   "outputs": [],
   "source": [
    "# import dependencies\n",
    "from xgboost import XGBClassifier\n",
    "import matplotlib.pyplot as plt\n",
    "from sklearn.preprocessing import StandardScaler\n",
    "from sklearn.model_selection import train_test_split\n",
    "from sklearn.metrics import confusion_matrix, accuracy_score, classification_report"
   ]
  },
  {
   "cell_type": "code",
   "execution_count": 5,
   "id": "34c9b371",
   "metadata": {
    "execution": {
     "iopub.execute_input": "2022-06-05T23:27:00.302332Z",
     "iopub.status.busy": "2022-06-05T23:27:00.302060Z",
     "iopub.status.idle": "2022-06-05T23:27:01.037196Z",
     "shell.execute_reply": "2022-06-05T23:27:01.036313Z"
    },
    "papermill": {
     "duration": 0.743707,
     "end_time": "2022-06-05T23:27:01.039190",
     "exception": false,
     "start_time": "2022-06-05T23:27:00.295483",
     "status": "completed"
    },
    "tags": []
   },
   "outputs": [
    {
     "data": {
      "text/html": [
       "<div>\n",
       "<style scoped>\n",
       "    .dataframe tbody tr th:only-of-type {\n",
       "        vertical-align: middle;\n",
       "    }\n",
       "\n",
       "    .dataframe tbody tr th {\n",
       "        vertical-align: top;\n",
       "    }\n",
       "\n",
       "    .dataframe thead th {\n",
       "        text-align: right;\n",
       "    }\n",
       "</style>\n",
       "<table border=\"1\" class=\"dataframe\">\n",
       "  <thead>\n",
       "    <tr style=\"text-align: right;\">\n",
       "      <th></th>\n",
       "      <th>state_beer</th>\n",
       "      <th>style</th>\n",
       "      <th>availability</th>\n",
       "      <th>abv</th>\n",
       "      <th>distribution</th>\n",
       "      <th>taste</th>\n",
       "    </tr>\n",
       "  </thead>\n",
       "  <tbody>\n",
       "    <tr>\n",
       "      <th>0</th>\n",
       "      <td>38</td>\n",
       "      <td>18</td>\n",
       "      <td>6</td>\n",
       "      <td>5.4</td>\n",
       "      <td>4</td>\n",
       "      <td>3.75</td>\n",
       "    </tr>\n",
       "    <tr>\n",
       "      <th>1</th>\n",
       "      <td>37</td>\n",
       "      <td>18</td>\n",
       "      <td>6</td>\n",
       "      <td>4.9</td>\n",
       "      <td>1</td>\n",
       "      <td>3.50</td>\n",
       "    </tr>\n",
       "    <tr>\n",
       "      <th>2</th>\n",
       "      <td>4</td>\n",
       "      <td>18</td>\n",
       "      <td>6</td>\n",
       "      <td>4.8</td>\n",
       "      <td>4</td>\n",
       "      <td>4.50</td>\n",
       "    </tr>\n",
       "    <tr>\n",
       "      <th>3</th>\n",
       "      <td>38</td>\n",
       "      <td>18</td>\n",
       "      <td>6</td>\n",
       "      <td>4.8</td>\n",
       "      <td>5</td>\n",
       "      <td>3.00</td>\n",
       "    </tr>\n",
       "    <tr>\n",
       "      <th>4</th>\n",
       "      <td>24</td>\n",
       "      <td>18</td>\n",
       "      <td>6</td>\n",
       "      <td>4.1</td>\n",
       "      <td>5</td>\n",
       "      <td>3.50</td>\n",
       "    </tr>\n",
       "    <tr>\n",
       "      <th>...</th>\n",
       "      <td>...</td>\n",
       "      <td>...</td>\n",
       "      <td>...</td>\n",
       "      <td>...</td>\n",
       "      <td>...</td>\n",
       "      <td>...</td>\n",
       "    </tr>\n",
       "    <tr>\n",
       "      <th>443995</th>\n",
       "      <td>14</td>\n",
       "      <td>36</td>\n",
       "      <td>2</td>\n",
       "      <td>10.5</td>\n",
       "      <td>10</td>\n",
       "      <td>4.50</td>\n",
       "    </tr>\n",
       "    <tr>\n",
       "      <th>443996</th>\n",
       "      <td>22</td>\n",
       "      <td>36</td>\n",
       "      <td>6</td>\n",
       "      <td>11.0</td>\n",
       "      <td>5</td>\n",
       "      <td>4.25</td>\n",
       "    </tr>\n",
       "    <tr>\n",
       "      <th>443997</th>\n",
       "      <td>47</td>\n",
       "      <td>36</td>\n",
       "      <td>0</td>\n",
       "      <td>13.1</td>\n",
       "      <td>5</td>\n",
       "      <td>4.75</td>\n",
       "    </tr>\n",
       "    <tr>\n",
       "      <th>443998</th>\n",
       "      <td>4</td>\n",
       "      <td>36</td>\n",
       "      <td>2</td>\n",
       "      <td>10.2</td>\n",
       "      <td>3</td>\n",
       "      <td>4.50</td>\n",
       "    </tr>\n",
       "    <tr>\n",
       "      <th>443999</th>\n",
       "      <td>9</td>\n",
       "      <td>36</td>\n",
       "      <td>1</td>\n",
       "      <td>11.2</td>\n",
       "      <td>3</td>\n",
       "      <td>4.75</td>\n",
       "    </tr>\n",
       "  </tbody>\n",
       "</table>\n",
       "<p>444000 rows × 6 columns</p>\n",
       "</div>"
      ],
      "text/plain": [
       "        state_beer  style  availability   abv  distribution  taste\n",
       "0               38     18             6   5.4             4   3.75\n",
       "1               37     18             6   4.9             1   3.50\n",
       "2                4     18             6   4.8             4   4.50\n",
       "3               38     18             6   4.8             5   3.00\n",
       "4               24     18             6   4.1             5   3.50\n",
       "...            ...    ...           ...   ...           ...    ...\n",
       "443995          14     36             2  10.5            10   4.50\n",
       "443996          22     36             6  11.0             5   4.25\n",
       "443997          47     36             0  13.1             5   4.75\n",
       "443998           4     36             2  10.2             3   4.50\n",
       "443999           9     36             1  11.2             3   4.75\n",
       "\n",
       "[444000 rows x 6 columns]"
      ]
     },
     "execution_count": 5,
     "metadata": {},
     "output_type": "execute_result"
    }
   ],
   "source": [
    "#encode string values\n",
    "from sklearn.preprocessing import LabelEncoder\n",
    "le = LabelEncoder()\n",
    "encoded_df4 = encoded_df3.copy()\n",
    "encoded_df4['state_beer'] = le.fit_transform(encoded_df4['state_beer'])\n",
    "encoded_df4['availability'] = le.fit_transform(encoded_df4['availability'])\n",
    "encoded_df4['distribution'] = le.fit_transform(encoded_df4['distribution'])\n",
    "encoded_df4['style'] = le.fit_transform(encoded_df4['style'])\n",
    "\n",
    "encoded_df4"
   ]
  },
  {
   "cell_type": "code",
   "execution_count": 6,
   "id": "a8c64983",
   "metadata": {
    "execution": {
     "iopub.execute_input": "2022-06-05T23:27:01.052675Z",
     "iopub.status.busy": "2022-06-05T23:27:01.052056Z",
     "iopub.status.idle": "2022-06-05T23:27:01.057689Z",
     "shell.execute_reply": "2022-06-05T23:27:01.056833Z"
    },
    "papermill": {
     "duration": 0.014788,
     "end_time": "2022-06-05T23:27:01.060190",
     "exception": false,
     "start_time": "2022-06-05T23:27:01.045402",
     "status": "completed"
    },
    "tags": []
   },
   "outputs": [
    {
     "data": {
      "text/plain": [
       "array([18, 18, 18, ..., 36, 36, 36])"
      ]
     },
     "execution_count": 6,
     "metadata": {},
     "output_type": "execute_result"
    }
   ],
   "source": [
    "# Define the target set\n",
    "y = encoded_df4[\"style\"].values\n",
    "y"
   ]
  },
  {
   "cell_type": "code",
   "execution_count": 7,
   "id": "34add971",
   "metadata": {
    "execution": {
     "iopub.execute_input": "2022-06-05T23:27:01.072623Z",
     "iopub.status.busy": "2022-06-05T23:27:01.072353Z",
     "iopub.status.idle": "2022-06-05T23:27:01.096882Z",
     "shell.execute_reply": "2022-06-05T23:27:01.096113Z"
    },
    "papermill": {
     "duration": 0.032873,
     "end_time": "2022-06-05T23:27:01.098771",
     "exception": false,
     "start_time": "2022-06-05T23:27:01.065898",
     "status": "completed"
    },
    "tags": []
   },
   "outputs": [
    {
     "data": {
      "text/html": [
       "<div>\n",
       "<style scoped>\n",
       "    .dataframe tbody tr th:only-of-type {\n",
       "        vertical-align: middle;\n",
       "    }\n",
       "\n",
       "    .dataframe tbody tr th {\n",
       "        vertical-align: top;\n",
       "    }\n",
       "\n",
       "    .dataframe thead th {\n",
       "        text-align: right;\n",
       "    }\n",
       "</style>\n",
       "<table border=\"1\" class=\"dataframe\">\n",
       "  <thead>\n",
       "    <tr style=\"text-align: right;\">\n",
       "      <th></th>\n",
       "      <th>state_beer</th>\n",
       "      <th>availability</th>\n",
       "      <th>abv</th>\n",
       "      <th>distribution</th>\n",
       "      <th>taste</th>\n",
       "    </tr>\n",
       "  </thead>\n",
       "  <tbody>\n",
       "    <tr>\n",
       "      <th>0</th>\n",
       "      <td>38</td>\n",
       "      <td>6</td>\n",
       "      <td>5.4</td>\n",
       "      <td>4</td>\n",
       "      <td>3.75</td>\n",
       "    </tr>\n",
       "    <tr>\n",
       "      <th>1</th>\n",
       "      <td>37</td>\n",
       "      <td>6</td>\n",
       "      <td>4.9</td>\n",
       "      <td>1</td>\n",
       "      <td>3.50</td>\n",
       "    </tr>\n",
       "    <tr>\n",
       "      <th>2</th>\n",
       "      <td>4</td>\n",
       "      <td>6</td>\n",
       "      <td>4.8</td>\n",
       "      <td>4</td>\n",
       "      <td>4.50</td>\n",
       "    </tr>\n",
       "    <tr>\n",
       "      <th>3</th>\n",
       "      <td>38</td>\n",
       "      <td>6</td>\n",
       "      <td>4.8</td>\n",
       "      <td>5</td>\n",
       "      <td>3.00</td>\n",
       "    </tr>\n",
       "    <tr>\n",
       "      <th>4</th>\n",
       "      <td>24</td>\n",
       "      <td>6</td>\n",
       "      <td>4.1</td>\n",
       "      <td>5</td>\n",
       "      <td>3.50</td>\n",
       "    </tr>\n",
       "    <tr>\n",
       "      <th>...</th>\n",
       "      <td>...</td>\n",
       "      <td>...</td>\n",
       "      <td>...</td>\n",
       "      <td>...</td>\n",
       "      <td>...</td>\n",
       "    </tr>\n",
       "    <tr>\n",
       "      <th>443995</th>\n",
       "      <td>14</td>\n",
       "      <td>2</td>\n",
       "      <td>10.5</td>\n",
       "      <td>10</td>\n",
       "      <td>4.50</td>\n",
       "    </tr>\n",
       "    <tr>\n",
       "      <th>443996</th>\n",
       "      <td>22</td>\n",
       "      <td>6</td>\n",
       "      <td>11.0</td>\n",
       "      <td>5</td>\n",
       "      <td>4.25</td>\n",
       "    </tr>\n",
       "    <tr>\n",
       "      <th>443997</th>\n",
       "      <td>47</td>\n",
       "      <td>0</td>\n",
       "      <td>13.1</td>\n",
       "      <td>5</td>\n",
       "      <td>4.75</td>\n",
       "    </tr>\n",
       "    <tr>\n",
       "      <th>443998</th>\n",
       "      <td>4</td>\n",
       "      <td>2</td>\n",
       "      <td>10.2</td>\n",
       "      <td>3</td>\n",
       "      <td>4.50</td>\n",
       "    </tr>\n",
       "    <tr>\n",
       "      <th>443999</th>\n",
       "      <td>9</td>\n",
       "      <td>1</td>\n",
       "      <td>11.2</td>\n",
       "      <td>3</td>\n",
       "      <td>4.75</td>\n",
       "    </tr>\n",
       "  </tbody>\n",
       "</table>\n",
       "<p>444000 rows × 5 columns</p>\n",
       "</div>"
      ],
      "text/plain": [
       "        state_beer  availability   abv  distribution  taste\n",
       "0               38             6   5.4             4   3.75\n",
       "1               37             6   4.9             1   3.50\n",
       "2                4             6   4.8             4   4.50\n",
       "3               38             6   4.8             5   3.00\n",
       "4               24             6   4.1             5   3.50\n",
       "...            ...           ...   ...           ...    ...\n",
       "443995          14             2  10.5            10   4.50\n",
       "443996          22             6  11.0             5   4.25\n",
       "443997          47             0  13.1             5   4.75\n",
       "443998           4             2  10.2             3   4.50\n",
       "443999           9             1  11.2             3   4.75\n",
       "\n",
       "[444000 rows x 5 columns]"
      ]
     },
     "execution_count": 7,
     "metadata": {},
     "output_type": "execute_result"
    }
   ],
   "source": [
    "#Drop y from the main df\n",
    "encoded_df4 = encoded_df4.drop(['style'], axis=1)\n",
    "encoded_df4"
   ]
  },
  {
   "cell_type": "code",
   "execution_count": 8,
   "id": "f9ab9a97",
   "metadata": {
    "execution": {
     "iopub.execute_input": "2022-06-05T23:27:01.113351Z",
     "iopub.status.busy": "2022-06-05T23:27:01.112027Z",
     "iopub.status.idle": "2022-06-05T23:27:01.131835Z",
     "shell.execute_reply": "2022-06-05T23:27:01.131076Z"
    },
    "papermill": {
     "duration": 0.028359,
     "end_time": "2022-06-05T23:27:01.133512",
     "exception": false,
     "start_time": "2022-06-05T23:27:01.105153",
     "status": "completed"
    },
    "tags": []
   },
   "outputs": [
    {
     "data": {
      "text/html": [
       "<div>\n",
       "<style scoped>\n",
       "    .dataframe tbody tr th:only-of-type {\n",
       "        vertical-align: middle;\n",
       "    }\n",
       "\n",
       "    .dataframe tbody tr th {\n",
       "        vertical-align: top;\n",
       "    }\n",
       "\n",
       "    .dataframe thead th {\n",
       "        text-align: right;\n",
       "    }\n",
       "</style>\n",
       "<table border=\"1\" class=\"dataframe\">\n",
       "  <thead>\n",
       "    <tr style=\"text-align: right;\">\n",
       "      <th></th>\n",
       "      <th>state_beer</th>\n",
       "      <th>availability</th>\n",
       "      <th>abv</th>\n",
       "      <th>distribution</th>\n",
       "      <th>taste</th>\n",
       "    </tr>\n",
       "  </thead>\n",
       "  <tbody>\n",
       "    <tr>\n",
       "      <th>0</th>\n",
       "      <td>38</td>\n",
       "      <td>6</td>\n",
       "      <td>5.4</td>\n",
       "      <td>4</td>\n",
       "      <td>3.75</td>\n",
       "    </tr>\n",
       "    <tr>\n",
       "      <th>1</th>\n",
       "      <td>37</td>\n",
       "      <td>6</td>\n",
       "      <td>4.9</td>\n",
       "      <td>1</td>\n",
       "      <td>3.50</td>\n",
       "    </tr>\n",
       "    <tr>\n",
       "      <th>2</th>\n",
       "      <td>4</td>\n",
       "      <td>6</td>\n",
       "      <td>4.8</td>\n",
       "      <td>4</td>\n",
       "      <td>4.50</td>\n",
       "    </tr>\n",
       "    <tr>\n",
       "      <th>3</th>\n",
       "      <td>38</td>\n",
       "      <td>6</td>\n",
       "      <td>4.8</td>\n",
       "      <td>5</td>\n",
       "      <td>3.00</td>\n",
       "    </tr>\n",
       "    <tr>\n",
       "      <th>4</th>\n",
       "      <td>24</td>\n",
       "      <td>6</td>\n",
       "      <td>4.1</td>\n",
       "      <td>5</td>\n",
       "      <td>3.50</td>\n",
       "    </tr>\n",
       "    <tr>\n",
       "      <th>...</th>\n",
       "      <td>...</td>\n",
       "      <td>...</td>\n",
       "      <td>...</td>\n",
       "      <td>...</td>\n",
       "      <td>...</td>\n",
       "    </tr>\n",
       "    <tr>\n",
       "      <th>443995</th>\n",
       "      <td>14</td>\n",
       "      <td>2</td>\n",
       "      <td>10.5</td>\n",
       "      <td>10</td>\n",
       "      <td>4.50</td>\n",
       "    </tr>\n",
       "    <tr>\n",
       "      <th>443996</th>\n",
       "      <td>22</td>\n",
       "      <td>6</td>\n",
       "      <td>11.0</td>\n",
       "      <td>5</td>\n",
       "      <td>4.25</td>\n",
       "    </tr>\n",
       "    <tr>\n",
       "      <th>443997</th>\n",
       "      <td>47</td>\n",
       "      <td>0</td>\n",
       "      <td>13.1</td>\n",
       "      <td>5</td>\n",
       "      <td>4.75</td>\n",
       "    </tr>\n",
       "    <tr>\n",
       "      <th>443998</th>\n",
       "      <td>4</td>\n",
       "      <td>2</td>\n",
       "      <td>10.2</td>\n",
       "      <td>3</td>\n",
       "      <td>4.50</td>\n",
       "    </tr>\n",
       "    <tr>\n",
       "      <th>443999</th>\n",
       "      <td>9</td>\n",
       "      <td>1</td>\n",
       "      <td>11.2</td>\n",
       "      <td>3</td>\n",
       "      <td>4.75</td>\n",
       "    </tr>\n",
       "  </tbody>\n",
       "</table>\n",
       "<p>444000 rows × 5 columns</p>\n",
       "</div>"
      ],
      "text/plain": [
       "        state_beer  availability   abv  distribution  taste\n",
       "0               38             6   5.4             4   3.75\n",
       "1               37             6   4.9             1   3.50\n",
       "2                4             6   4.8             4   4.50\n",
       "3               38             6   4.8             5   3.00\n",
       "4               24             6   4.1             5   3.50\n",
       "...            ...           ...   ...           ...    ...\n",
       "443995          14             2  10.5            10   4.50\n",
       "443996          22             6  11.0             5   4.25\n",
       "443997          47             0  13.1             5   4.75\n",
       "443998           4             2  10.2             3   4.50\n",
       "443999           9             1  11.2             3   4.75\n",
       "\n",
       "[444000 rows x 5 columns]"
      ]
     },
     "execution_count": 8,
     "metadata": {},
     "output_type": "execute_result"
    }
   ],
   "source": [
    "#define the features set\n",
    "X = encoded_df4.copy()\n",
    "X"
   ]
  },
  {
   "cell_type": "code",
   "execution_count": 9,
   "id": "284cc898",
   "metadata": {
    "execution": {
     "iopub.execute_input": "2022-06-05T23:27:01.146981Z",
     "iopub.status.busy": "2022-06-05T23:27:01.146715Z",
     "iopub.status.idle": "2022-06-05T23:27:01.188310Z",
     "shell.execute_reply": "2022-06-05T23:27:01.187550Z"
    },
    "papermill": {
     "duration": 0.050575,
     "end_time": "2022-06-05T23:27:01.190272",
     "exception": false,
     "start_time": "2022-06-05T23:27:01.139697",
     "status": "completed"
    },
    "tags": []
   },
   "outputs": [],
   "source": [
    "# Splitting into Train and Test sets\n",
    "X_train, X_test, y_train, y_test = train_test_split(X, y, test_size=0.33, random_state=1)"
   ]
  },
  {
   "cell_type": "code",
   "execution_count": 10,
   "id": "bf209cd7",
   "metadata": {
    "execution": {
     "iopub.execute_input": "2022-06-05T23:27:01.204102Z",
     "iopub.status.busy": "2022-06-05T23:27:01.203821Z",
     "iopub.status.idle": "2022-06-05T23:27:01.234296Z",
     "shell.execute_reply": "2022-06-05T23:27:01.233543Z"
    },
    "papermill": {
     "duration": 0.039592,
     "end_time": "2022-06-05T23:27:01.236334",
     "exception": false,
     "start_time": "2022-06-05T23:27:01.196742",
     "status": "completed"
    },
    "tags": []
   },
   "outputs": [],
   "source": [
    "# Create a StandardScaler instance\n",
    "scaler = StandardScaler()\n",
    "# Fitting the Standard Scaler with the training data.\n",
    "X_scaler = scaler.fit(X_train)\n",
    "\n",
    "# Scaling the data.\n",
    "X_train_scaled = X_scaler.transform(X_train)\n",
    "X_test_scaled = X_scaler.transform(X_test)"
   ]
  },
  {
   "cell_type": "code",
   "execution_count": 11,
   "id": "1dbc1557",
   "metadata": {
    "execution": {
     "iopub.execute_input": "2022-06-05T23:27:01.250505Z",
     "iopub.status.busy": "2022-06-05T23:27:01.250208Z",
     "iopub.status.idle": "2022-06-05T23:27:01.256763Z",
     "shell.execute_reply": "2022-06-05T23:27:01.255932Z"
    },
    "papermill": {
     "duration": 0.016489,
     "end_time": "2022-06-05T23:27:01.259278",
     "exception": false,
     "start_time": "2022-06-05T23:27:01.242789",
     "status": "completed"
    },
    "tags": []
   },
   "outputs": [
    {
     "data": {
      "text/plain": [
       "{'lambda': 0.6961487559906326,\n",
       " 'alpha': 0.010396164166391456,\n",
       " 'colsample_bytree': 0.9,\n",
       " 'subsample': 0.7,\n",
       " 'learning_rate': 0.008,\n",
       " 'max_depth': 17,\n",
       " 'random_state': 2020,\n",
       " 'min_child_weight': 1,\n",
       " 'tree_method': 'gpu_hist',\n",
       " 'n_estimators': 200}"
      ]
     },
     "execution_count": 11,
     "metadata": {},
     "output_type": "execute_result"
    }
   ],
   "source": [
    "best_trial1 = {'lambda': 0.6961487559906326, 'alpha': 0.010396164166391456, 'colsample_bytree': 0.9, 'subsample': 0.7, 'learning_rate': 0.008, 'max_depth': 17, 'random_state': 2020, 'min_child_weight': 1, 'tree_method': 'gpu_hist','n_estimators': 200 }\n",
    "best_trial1"
   ]
  },
  {
   "cell_type": "code",
   "execution_count": 12,
   "id": "42644eeb",
   "metadata": {
    "execution": {
     "iopub.execute_input": "2022-06-05T23:27:01.272863Z",
     "iopub.status.busy": "2022-06-05T23:27:01.272609Z",
     "iopub.status.idle": "2022-06-05T23:35:52.598535Z",
     "shell.execute_reply": "2022-06-05T23:35:52.597597Z"
    },
    "papermill": {
     "duration": 531.335557,
     "end_time": "2022-06-05T23:35:52.601120",
     "exception": false,
     "start_time": "2022-06-05T23:27:01.265563",
     "status": "completed"
    },
    "tags": []
   },
   "outputs": [],
   "source": [
    "# create an optimized xgb classifier\n",
    "xgb_model1 = XGBClassifier(**best_trial1)\n",
    "# fit the model\n",
    "xgb_model1 = xgb_model1.fit(X_train_scaled, y_train)"
   ]
  },
  {
   "cell_type": "code",
   "execution_count": 13,
   "id": "67b7ae2f",
   "metadata": {
    "execution": {
     "iopub.execute_input": "2022-06-05T23:35:52.615784Z",
     "iopub.status.busy": "2022-06-05T23:35:52.615496Z",
     "iopub.status.idle": "2022-06-05T23:37:47.854719Z",
     "shell.execute_reply": "2022-06-05T23:37:47.853851Z"
    },
    "papermill": {
     "duration": 115.248717,
     "end_time": "2022-06-05T23:37:47.856871",
     "exception": false,
     "start_time": "2022-06-05T23:35:52.608154",
     "status": "completed"
    },
    "tags": []
   },
   "outputs": [],
   "source": [
    "# make predictions for test data\n",
    "predictions1 = xgb_model1.predict(X_test_scaled)"
   ]
  },
  {
   "cell_type": "code",
   "execution_count": 14,
   "id": "9ba7cac4",
   "metadata": {
    "execution": {
     "iopub.execute_input": "2022-06-05T23:37:47.871442Z",
     "iopub.status.busy": "2022-06-05T23:37:47.871122Z",
     "iopub.status.idle": "2022-06-05T23:37:47.922610Z",
     "shell.execute_reply": "2022-06-05T23:37:47.921918Z"
    },
    "papermill": {
     "duration": 0.060392,
     "end_time": "2022-06-05T23:37:47.924248",
     "exception": false,
     "start_time": "2022-06-05T23:37:47.863856",
     "status": "completed"
    },
    "tags": []
   },
   "outputs": [],
   "source": [
    "#calculate matrix and accuracy score\n",
    "cm1 = confusion_matrix(y_test, predictions1)\n",
    "cm_df1 = pd.DataFrame(cm1)\n",
    "accuracy = accuracy_score(y_test, predictions1)"
   ]
  },
  {
   "cell_type": "code",
   "execution_count": 15,
   "id": "076fa1e2",
   "metadata": {
    "execution": {
     "iopub.execute_input": "2022-06-05T23:37:47.938244Z",
     "iopub.status.busy": "2022-06-05T23:37:47.937970Z",
     "iopub.status.idle": "2022-06-05T23:37:48.352606Z",
     "shell.execute_reply": "2022-06-05T23:37:48.351694Z"
    },
    "papermill": {
     "duration": 0.424929,
     "end_time": "2022-06-05T23:37:48.355782",
     "exception": false,
     "start_time": "2022-06-05T23:37:47.930853",
     "status": "completed"
    },
    "tags": []
   },
   "outputs": [
    {
     "name": "stdout",
     "output_type": "stream",
     "text": [
      "Confusion Matrix\n",
      "Accuracy: 75.83%\n",
      "Classification Report\n",
      "              precision    recall  f1-score   support\n",
      "\n",
      "           0       0.73      0.77      0.75      3651\n",
      "           1       0.76      0.80      0.78      3689\n",
      "           2       0.78      0.84      0.81      3668\n",
      "           3       0.82      0.88      0.85      3638\n",
      "           4       0.74      0.85      0.79      3584\n",
      "           5       0.74      0.69      0.71      3683\n",
      "           6       0.70      0.83      0.76      3681\n",
      "           7       0.69      0.67      0.68      3685\n",
      "           8       0.72      0.64      0.68      3671\n",
      "           9       0.68      0.64      0.66      3747\n",
      "          10       0.77      0.80      0.79      3637\n",
      "          11       0.84      0.89      0.86      3610\n",
      "          12       0.61      0.53      0.57      3701\n",
      "          13       0.83      0.87      0.85      3724\n",
      "          14       0.76      0.67      0.72      3687\n",
      "          15       0.82      0.85      0.83      3593\n",
      "          16       0.87      0.90      0.89      3641\n",
      "          17       0.81      0.88      0.84      3652\n",
      "          18       0.71      0.70      0.71      3619\n",
      "          19       0.73      0.84      0.78      3661\n",
      "          20       0.69      0.78      0.73      3632\n",
      "          21       0.85      0.91      0.88      3650\n",
      "          22       0.87      0.91      0.89      3728\n",
      "          23       0.80      0.83      0.81      3632\n",
      "          24       0.82      0.82      0.82      3717\n",
      "          25       0.74      0.69      0.71      3628\n",
      "          26       0.75      0.81      0.78      3707\n",
      "          27       0.72      0.55      0.63      3673\n",
      "          28       0.58      0.39      0.47      3692\n",
      "          29       0.67      0.64      0.65      3626\n",
      "          30       0.69      0.60      0.64      3657\n",
      "          31       0.87      0.90      0.88      3660\n",
      "          32       0.70      0.55      0.61      3675\n",
      "          33       0.78      0.79      0.78      3657\n",
      "          34       0.81      0.82      0.82      3640\n",
      "          35       0.85      0.86      0.86      3645\n",
      "          36       0.71      0.56      0.62      3695\n",
      "          37       0.81      0.80      0.80      3605\n",
      "          38       0.53      0.64      0.58      3669\n",
      "          39       0.89      0.93      0.91      3710\n",
      "\n",
      "    accuracy                           0.76    146520\n",
      "   macro avg       0.76      0.76      0.75    146520\n",
      "weighted avg       0.76      0.76      0.75    146520\n",
      "\n"
     ]
    }
   ],
   "source": [
    "# Display results\n",
    "\n",
    "print(\"Confusion Matrix\")\n",
    "print(\"Accuracy: %.2f%%\" % (accuracy * 100.0))\n",
    "print(\"Classification Report\")\n",
    "print(classification_report(y_test, predictions1))"
   ]
  },
  {
   "cell_type": "code",
   "execution_count": 16,
   "id": "6c53cd67",
   "metadata": {
    "execution": {
     "iopub.execute_input": "2022-06-05T23:37:48.371115Z",
     "iopub.status.busy": "2022-06-05T23:37:48.370830Z",
     "iopub.status.idle": "2022-06-05T23:41:44.891970Z",
     "shell.execute_reply": "2022-06-05T23:41:44.891062Z"
    },
    "papermill": {
     "duration": 236.53968,
     "end_time": "2022-06-05T23:41:44.902679",
     "exception": false,
     "start_time": "2022-06-05T23:37:48.362999",
     "status": "completed"
    },
    "tags": []
   },
   "outputs": [
    {
     "name": "stdout",
     "output_type": "stream",
     "text": [
      "              precision    recall  f1-score   support\n",
      "\n",
      "           0       0.77      0.81      0.79      7449\n",
      "           1       0.80      0.83      0.82      7411\n",
      "           2       0.81      0.87      0.84      7432\n",
      "           3       0.84      0.90      0.87      7462\n",
      "           4       0.79      0.88      0.83      7516\n",
      "           5       0.79      0.73      0.76      7417\n",
      "           6       0.74      0.86      0.79      7419\n",
      "           7       0.75      0.72      0.74      7415\n",
      "           8       0.77      0.69      0.72      7429\n",
      "           9       0.73      0.69      0.71      7353\n",
      "          10       0.80      0.83      0.81      7463\n",
      "          11       0.85      0.90      0.88      7490\n",
      "          12       0.67      0.62      0.65      7399\n",
      "          13       0.85      0.91      0.88      7376\n",
      "          14       0.82      0.72      0.76      7413\n",
      "          15       0.84      0.87      0.86      7507\n",
      "          16       0.88      0.92      0.90      7459\n",
      "          17       0.85      0.91      0.88      7448\n",
      "          18       0.76      0.75      0.75      7481\n",
      "          19       0.75      0.87      0.81      7439\n",
      "          20       0.74      0.82      0.78      7468\n",
      "          21       0.89      0.93      0.91      7450\n",
      "          22       0.89      0.93      0.91      7372\n",
      "          23       0.81      0.86      0.83      7468\n",
      "          24       0.84      0.86      0.85      7383\n",
      "          25       0.79      0.72      0.75      7472\n",
      "          26       0.79      0.85      0.82      7393\n",
      "          27       0.78      0.60      0.68      7427\n",
      "          28       0.69      0.49      0.57      7408\n",
      "          29       0.71      0.69      0.70      7474\n",
      "          30       0.77      0.67      0.72      7443\n",
      "          31       0.89      0.91      0.90      7440\n",
      "          32       0.75      0.61      0.67      7425\n",
      "          33       0.82      0.83      0.82      7443\n",
      "          34       0.85      0.86      0.85      7460\n",
      "          35       0.87      0.89      0.88      7455\n",
      "          36       0.77      0.62      0.68      7405\n",
      "          37       0.83      0.81      0.82      7495\n",
      "          38       0.61      0.71      0.65      7431\n",
      "          39       0.90      0.94      0.92      7390\n",
      "\n",
      "    accuracy                           0.80    297480\n",
      "   macro avg       0.80      0.80      0.79    297480\n",
      "weighted avg       0.80      0.80      0.79    297480\n",
      "\n"
     ]
    }
   ],
   "source": [
    "train_predictions = xgb_model1.predict(X_train_scaled)\n",
    "print(classification_report(y_train, train_predictions))"
   ]
  },
  {
   "cell_type": "code",
   "execution_count": 17,
   "id": "12c84037",
   "metadata": {
    "execution": {
     "iopub.execute_input": "2022-06-05T23:41:44.920211Z",
     "iopub.status.busy": "2022-06-05T23:41:44.919898Z",
     "iopub.status.idle": "2022-06-05T23:41:45.403419Z",
     "shell.execute_reply": "2022-06-05T23:41:45.402526Z"
    },
    "papermill": {
     "duration": 0.493804,
     "end_time": "2022-06-05T23:41:45.405576",
     "exception": false,
     "start_time": "2022-06-05T23:41:44.911772",
     "status": "completed"
    },
    "tags": []
   },
   "outputs": [
    {
     "data": {
      "text/plain": [
       "[(0.30646607, 'availability'),\n",
       " (0.30558464, 'abv'),\n",
       " (0.1848866, 'state_beer'),\n",
       " (0.17224413, 'distribution'),\n",
       " (0.03081858, 'taste')]"
      ]
     },
     "execution_count": 17,
     "metadata": {},
     "output_type": "execute_result"
    }
   ],
   "source": [
    "#Calculate feature importance in the Random Forest model and rank them\n",
    "importances = xgb_model1.feature_importances_\n",
    "sorted(zip(xgb_model1.feature_importances_, X.columns), reverse = True)"
   ]
  },
  {
   "cell_type": "code",
   "execution_count": 18,
   "id": "33ea1e5f",
   "metadata": {
    "execution": {
     "iopub.execute_input": "2022-06-05T23:41:45.421397Z",
     "iopub.status.busy": "2022-06-05T23:41:45.421100Z",
     "iopub.status.idle": "2022-06-05T23:41:45.729869Z",
     "shell.execute_reply": "2022-06-05T23:41:45.729177Z"
    },
    "papermill": {
     "duration": 0.318526,
     "end_time": "2022-06-05T23:41:45.731609",
     "exception": false,
     "start_time": "2022-06-05T23:41:45.413083",
     "status": "completed"
    },
    "tags": []
   },
   "outputs": [
    {
     "data": {
      "image/png": "[encoded data removed]",
      "text/plain": [
       "<Figure size 432x288 with 1 Axes>"
      ]
     },
     "metadata": {},
     "output_type": "display_data"
    }
   ],
   "source": [
    "feature_names = X.columns\n",
    "rf_importances = pd.Series(importances, index=feature_names)\n",
    "\n",
    "fig, ax = plt.subplots()\n",
    "rf_importances.plot.bar(ax=ax)\n",
    "ax.set_title(\"Feature importance ranking\")\n",
    "ax.set_ylabel(\"Importance\")\n",
    "fig.tight_layout()\n",
    "plt.savefig('Feature importance ranking.png')"
   ]
  },
  {
   "cell_type": "code",
   "execution_count": 19,
   "id": "9c646fb5",
   "metadata": {
    "execution": {
     "iopub.execute_input": "2022-06-05T23:41:45.746764Z",
     "iopub.status.busy": "2022-06-05T23:41:45.746373Z",
     "iopub.status.idle": "2022-06-05T23:41:46.138698Z",
     "shell.execute_reply": "2022-06-05T23:41:46.137910Z"
    },
    "papermill": {
     "duration": 0.402098,
     "end_time": "2022-06-05T23:41:46.140728",
     "exception": false,
     "start_time": "2022-06-05T23:41:45.738630",
     "status": "completed"
    },
    "tags": []
   },
   "outputs": [],
   "source": [
    "#Export testing classification report\n",
    "df1 = pd.DataFrame(classification_report(y_test, predictions1, output_dict=True))\n",
    "df1.to_csv('test_classification_report_xgboost.csv',index=False)\n"
   ]
  },
  {
   "cell_type": "code",
   "execution_count": 20,
   "id": "3a2b8d22",
   "metadata": {
    "execution": {
     "iopub.execute_input": "2022-06-05T23:41:46.156095Z",
     "iopub.status.busy": "2022-06-05T23:41:46.155811Z",
     "iopub.status.idle": "2022-06-05T23:41:46.951297Z",
     "shell.execute_reply": "2022-06-05T23:41:46.950409Z"
    },
    "papermill": {
     "duration": 0.805422,
     "end_time": "2022-06-05T23:41:46.953341",
     "exception": false,
     "start_time": "2022-06-05T23:41:46.147919",
     "status": "completed"
    },
    "tags": []
   },
   "outputs": [],
   "source": [
    "#Export training classification report\n",
    "df2 = pd.DataFrame(classification_report(y_train, train_predictions, output_dict=True))\n",
    "df2.to_csv('train_classification_report_xgboost.csv',index=False)"
   ]
  },
  {
   "cell_type": "code",
   "execution_count": null,
   "id": "8233ec95",
   "metadata": {
    "papermill": {
     "duration": 0.006803,
     "end_time": "2022-06-05T23:41:46.967614",
     "exception": false,
     "start_time": "2022-06-05T23:41:46.960811",
     "status": "completed"
    },
    "tags": []
   },
   "outputs": [],
   "source": []
  }
 ],
 "metadata": {
  "kernelspec": {
   "display_name": "Python 3",
   "language": "python",
   "name": "python3"
  },
  "language_info": {
   "codemirror_mode": {
    "name": "ipython",
    "version": 3
   },
   "file_extension": ".py",
   "mimetype": "text/x-python",
   "name": "python",
   "nbconvert_exporter": "python",
   "pygments_lexer": "ipython3",
   "version": "3.7.12"
  },
  "papermill": {
   "default_parameters": {},
   "duration": 898.583057,
   "end_time": "2022-06-05T23:41:48.197156",
   "environment_variables": {},
   "exception": null,
   "input_path": "__notebook__.ipynb",
   "output_path": "__notebook__.ipynb",
   "parameters": {},
   "start_time": "2022-06-05T23:26:49.614099",
   "version": "2.3.4"
  }
 },
 "nbformat": 4,
 "nbformat_minor": 5
}
